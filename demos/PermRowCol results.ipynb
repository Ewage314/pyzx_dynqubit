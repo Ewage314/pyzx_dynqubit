{
 "cells": [
  {
   "cell_type": "markdown",
   "metadata": {},
   "source": [
    "# PermRowCol experimental results"
   ]
  },
  {
   "cell_type": "code",
   "execution_count": 1,
   "metadata": {},
   "outputs": [
    {
     "ename": "ImportError",
     "evalue": "cannot import name 'cnot_mapper' from 'pyzx' (/home/ewan/.local/lib/python3.10/site-packages/pyzx/__init__.py)",
     "output_type": "error",
     "traceback": [
      "\u001b[0;31m---------------------------------------------------------------------------\u001b[0m",
      "\u001b[0;31mImportError\u001b[0m                               Traceback (most recent call last)",
      "Cell \u001b[0;32mIn [1], line 11\u001b[0m\n\u001b[1;32m      7\u001b[0m get_ipython()\u001b[38;5;241m.\u001b[39mrun_line_magic(\u001b[38;5;124m'\u001b[39m\u001b[38;5;124mmatplotlib\u001b[39m\u001b[38;5;124m'\u001b[39m, \u001b[38;5;124m'\u001b[39m\u001b[38;5;124minline\u001b[39m\u001b[38;5;124m'\u001b[39m)\n\u001b[1;32m      9\u001b[0m \u001b[38;5;28;01mfrom\u001b[39;00m \u001b[38;5;21;01mmultiprocessing\u001b[39;00m \u001b[38;5;28;01mimport\u001b[39;00m Pool\n\u001b[0;32m---> 11\u001b[0m \u001b[38;5;28;01mfrom\u001b[39;00m \u001b[38;5;21;01mpyzx\u001b[39;00m \u001b[38;5;28;01mimport\u001b[39;00m cnot_mapper, architecture \u001b[38;5;66;03m# Note that this is the local pyzx package from this repository/fork, not the one installed through pip or other means.\u001b[39;00m\n",
      "\u001b[0;31mImportError\u001b[0m: cannot import name 'cnot_mapper' from 'pyzx' (/home/ewan/.local/lib/python3.10/site-packages/pyzx/__init__.py)"
     ]
    }
   ],
   "source": [
    "import os\n",
    "\n",
    "import numpy as np\n",
    "import pandas as pd\n",
    "import matplotlib\n",
    "import matplotlib.pyplot as plt\n",
    "%matplotlib inline \n",
    "\n",
    "from multiprocessing import Pool\n",
    "\n",
    "from pyzx import cnot_mapper, architecture # Note that this is the local pyzx package from this repository/fork, not the one installed through pip or other means."
   ]
  },
  {
   "cell_type": "markdown",
   "metadata": {},
   "source": [
    "First, we specify some code to read the dataset of CNOT circuits that was used in [ArXiv 1904.00633](https://arxiv.org/pdf/1904.00633.pdf). Since the original paper only used 20 circuits per test case (number of qubits, number of original CNOTs), we generated 80 more circuits that are now available on this GitHub repository in the folder circuits/steiner/"
   ]
  },
  {
   "cell_type": "code",
   "execution_count": null,
   "metadata": {},
   "outputs": [],
   "source": [
    "def read_circuit(source):\n",
    "    if not os.path.exists(source):\n",
    "        print(\"File {} does not exist\".format(source))\n",
    "        return\n",
    "    return cnot_mapper.CNOT_tracker.from_qasm_file(source, parities_as_columns=True)\n",
    "\n",
    "def read_circuits(n_qubits):\n",
    "    source_folder = \"../circuits/steiner/\"\n",
    "    circuits = []\n",
    "    sources = []\n",
    "    subfolder = os.path.join(source_folder, str(n_qubits)+\"qubits/\")\n",
    "\n",
    "    for folder in os.listdir(subfolder):\n",
    "        folder = os.path.join(subfolder, folder)\n",
    "        if os.path.isdir(folder):\n",
    "            for file in os.listdir(folder):\n",
    "                if file.endswith(\".qasm\"):\n",
    "                    src = os.path.join(folder, file)\n",
    "                    circuit = read_circuit(src)\n",
    "                    circuits.append(circuit)\n",
    "                    sources.append(src)\n",
    "    return circuits, sources"
   ]
  },
  {
   "cell_type": "markdown",
   "metadata": {},
   "source": [
    "Then we run our experiment with the algorithms as they are."
   ]
  },
  {
   "cell_type": "code",
   "execution_count": null,
   "metadata": {},
   "outputs": [],
   "source": [
    "def multiprocess_experiments(mode, circuits, arch):\n",
    "    pool = Pool(processes=os.cpu_count())\n",
    "    n_circuits = len(circuits)\n",
    "    inputs = zip([mode]*n_circuits, \n",
    "                 [cnot_mapper.Mat2(np.copy(c.matrix.data)) for c in circuits], \n",
    "                 [arch]*n_circuits,\n",
    "                 [True]*n_circuits\n",
    "                )\n",
    "    new_circuits =  pool.starmap(cnot_mapper.gauss_return_circuit, inputs)\n",
    "    return [c.count_cnots() for c in new_circuits]\n",
    "\n",
    "def run_steiner_gauss(circuits, arch):\n",
    "    return multiprocess_experiments(cnot_mapper.STEINER_MODE, circuits, arch)\n",
    "\n",
    "def run_rowcol(circuits, arch):\n",
    "    return multiprocess_experiments(cnot_mapper.ROWCOL_MODE, circuits, arch)\n",
    "\n",
    "def run_perm_rowcol(circuits, arch):\n",
    "    return multiprocess_experiments(cnot_mapper.PERMROWCOL_MODE, circuits, arch)\n",
    "\n",
    "# Reverse traversal parameters\n",
    "RT_parameters = {\n",
    "    \"max_iter\" : 15\n",
    "}\n",
    "\n",
    "Astar_parameters = {\n",
    "    \"choiceWidth\": 4,\n",
    "    \"parities_as_columns\": True,\n",
    "    \"max_size\": 10\n",
    "}\n",
    "\n",
    "def run_reverse_traversal(circuits, arch): \n",
    "    pool = Pool(os.cpu_count())\n",
    "    n_circuits = len(circuits)\n",
    "    inputs = zip([cnot_mapper.Mat2(np.copy(c.matrix.data)) for c in circuits], [arch]*n_circuits, [RT_parameters[\"max_iter\"]]*n_circuits)\n",
    "    new_circuits = pool.starmap(cnot_mapper.reverse_traversal, inputs)\n",
    "    return [c.count_cnots() for c,i,o in new_circuits]\n",
    "\n",
    "def run_A_permrowcol(circuits, arch):\n",
    "    pool = Pool(os.cpu_count())\n",
    "    n_circuits = len(circuits)\n",
    "    inputs = zip([cnot_mapper.Mat2(np.copy(c.matrix.data)) for c in circuits], [arch]*n_circuits, \n",
    "                 [Astar_parameters[\"choiceWidth\"]]*n_circuits,\n",
    "                [Astar_parameters[\"max_size\"]]*n_circuits,\n",
    "                [Astar_parameters[\"parities_as_columns\"]]*n_circuits)\n",
    "    new_circuits = pool.starmap(cnot_mapper.A_permrowcol, inputs)\n",
    "    return [c.count_cnots() for p,c in new_circuits]\n",
    "\n",
    "\n",
    "def run_Astart_reverse_traversal(circuits, arch): \n",
    "    pool = Pool(os.cpu_count())    \n",
    "    n_circuits = len(circuits)\n",
    "    inputs = zip([cnot_mapper.Mat2(np.copy(c.matrix.data)) for c in circuits], [arch]*n_circuits, [RT_parameters[\"max_iter\"]]*n_circuits,  [Astar_parameters]*n_circuits)\n",
    "    new_circuits = pool.starmap(cnot_mapper.reverse_traversal, inputs)\n",
    "    return [c.count_cnots() for c,i,o in new_circuits]"
   ]
  },
  {
   "cell_type": "code",
   "execution_count": null,
   "metadata": {},
   "outputs": [],
   "source": [
    "def run_experiment(arch, method):\n",
    "    n_qubits = arch.n_qubits\n",
    "    og_circuits, srcs = read_circuits(n_qubits)\n",
    "    results = pd.DataFrame()\n",
    "\n",
    "    results[\"Original\"] = np.array([int(src.split(\"/\")[-2]) for src in srcs])\n",
    "    results[\"#Qubits\"] = np.array([n_qubits]*len(og_circuits))\n",
    "    results[\"Architecture\"] = np.array([arch.name]*len(og_circuits))\n",
    "    \n",
    "    for m, func in method.items():\n",
    "        print(\"Running\", m)\n",
    "        results[(m, \"count\")] = np.array(func(og_circuits, arch))\n",
    "        results[(m, \"overhead (%)\")] = (results[(m, \"count\")]/results[\"Original\"] - 1)*100\n",
    "        tmp = results.groupby([\"Original\", \"Architecture\", \"#Qubits\"]).mean()\n",
    "        tmp.columns = pd.MultiIndex.from_tuples(tmp.columns.tolist()) \n",
    "        tmp.to_csv(\"tmp/\"+m+arch.name+\" results.csv\")\n",
    "\n",
    "    results = results.groupby([\"Original\", \"Architecture\", \"#Qubits\"]).mean()\n",
    "\n",
    "    results.columns = pd.MultiIndex.from_tuples(results.columns.tolist()) \n",
    "    results.to_csv(\"tmp/\"+arch.name+\" results.csv\")\n",
    "    return results"
   ]
  },
  {
   "cell_type": "code",
   "execution_count": null,
   "metadata": {},
   "outputs": [],
   "source": [
    "archs = [\n",
    "    architecture.create_architecture(architecture.SQUARE, n_qubits=9),\n",
    "    architecture.create_architecture(architecture.SQUARE, n_qubits=16),\n",
    "    architecture.create_architecture(architecture.RIGETTI_16Q_ASPEN),\n",
    "    architecture.create_architecture(architecture.IBM_QX5),\n",
    "    architecture.create_architecture(architecture.IBM_Q20_TOKYO)\n",
    "]\n",
    "\n",
    "method = {\n",
    "    \"SteinerGauss\": run_steiner_gauss,\n",
    "    \"RowCol\": run_rowcol,\n",
    "    \"PermRowCol without RT\": run_perm_rowcol,\n",
    "    \"PermRowCol with RT\": run_reverse_traversal\n",
    "}\n",
    "\n",
    "results = pd.concat([run_experiment(arch, method) for arch in archs])\n",
    "results.to_csv(\"PermRowCol results.csv\")"
   ]
  },
  {
   "cell_type": "code",
   "execution_count": null,
   "metadata": {},
   "outputs": [],
   "source": [
    "results"
   ]
  },
  {
   "cell_type": "code",
   "execution_count": null,
   "metadata": {},
   "outputs": [],
   "source": [
    "archs = [\n",
    "    architecture.create_architecture(architecture.FULLY_CONNNECTED, n_qubits=5),\n",
    "    architecture.create_architecture(architecture.LINE, n_qubits=5),\n",
    "    architecture.create_architecture(architecture.IBM_QX2),\n",
    "    architecture.create_architecture(architecture.IBM_QX4)\n",
    "]\n",
    "method = {\n",
    "    \"SteinerGauss\": run_steiner_gauss,\n",
    "    \"RowCol\": run_rowcol,\n",
    "    \"PermRowCol without RT\": run_perm_rowcol,\n",
    "    \"PermRowCol with RT\": run_reverse_traversal,\n",
    "    \"PermRowCol with A*\": run_A_permrowcol,\n",
    "    \"PermRowCol with RT and A*\": run_Astart_reverse_traversal\n",
    "}\n",
    "\n",
    "results = pd.concat([run_experiment(arch, method) for arch in archs])\n",
    "results.to_csv(\"A* PermRowCol results.csv\")"
   ]
  },
  {
   "cell_type": "code",
   "execution_count": null,
   "metadata": {},
   "outputs": [],
   "source": [
    "results"
   ]
  },
  {
   "cell_type": "markdown",
   "metadata": {},
   "source": [
    "The PermRowCol algorithm relies on heuristical functions for determining which row and column to pick. Below are some example functions to to play around with. By default, the behavior uses `ChooseRowMin` and `ChooseRowMax` (hardcoded in `permrowcol`)."
   ]
  },
  {
   "cell_type": "code",
   "execution_count": null,
   "metadata": {},
   "outputs": [],
   "source": [
    "def chooseRowMin(m, o):\n",
    "    return o[np.argmin([sum(m.data[i]) for i in o])]\n",
    "\n",
    "def chooseColumnMin(m, r, o):\n",
    "    return o[np.argmin([sum(m.data[:, i]) if m.data[r][i] == 1 else len(m.data) for i in o])] \n",
    "\n",
    "def chooseRowMax(m, o):\n",
    "    return o[np.argmax([sum(m.data[i]) for i in o])]\n",
    "\n",
    "def chooseColumnMax(m, r, o):\n",
    "    return o[np.argmax([sum(m.data[:, i]) if m.data[r][i] == 1 else 0 for i in o])] "
   ]
  },
  {
   "cell_type": "markdown",
   "metadata": {},
   "source": [
    "## Unconstrained experiments\n",
    "Because there are more applications for Gaussian elimination where the number of steps are counted and the resulting matrix can also be a permutation matrix, we also compare our algorithm in case that there are no connectivity constraints. \n",
    "\n",
    "For example, this can be useful in ZX diagram extraction."
   ]
  },
  {
   "cell_type": "code",
   "execution_count": null,
   "metadata": {},
   "outputs": [],
   "source": [
    "fully_connected_archs = [architecture.create_architecture(architecture.FULLY_CONNNECTED, n_qubits=n) for n in [5, 9, 16, 20]]"
   ]
  },
  {
   "cell_type": "code",
   "execution_count": null,
   "metadata": {},
   "outputs": [],
   "source": [
    "method = {\n",
    "    \"SteinerGauss\": run_steiner_gauss,\n",
    "    \"RowCol\": run_rowcol,\n",
    "    \"PermRowCol without RT\": run_perm_rowcol,\n",
    "    \"PermRowCol with RT\": run_reverse_traversal\n",
    "}\n",
    "results = pd.concat([run_experiment(arch, method) for arch in fully_connected_archs])\n",
    "results.to_csv(\"PermRowCol results UNCONSTRAINED.csv\")"
   ]
  },
  {
   "cell_type": "code",
   "execution_count": null,
   "metadata": {},
   "outputs": [],
   "source": [
    "results"
   ]
  },
  {
   "cell_type": "markdown",
   "metadata": {},
   "source": [
    "# Visualization\n"
   ]
  },
  {
   "cell_type": "code",
   "execution_count": null,
   "metadata": {},
   "outputs": [],
   "source": [
    "def plot_results(filename, architectures, n=4):\n",
    "    df = pd.read_csv(filename, header=[0,1,2])\n",
    "    for i, arch in enumerate(architectures):\n",
    "        tmp_df = df[df[df.columns[1]] == arch.name]\n",
    "        \n",
    "        original = tmp_df[df.columns[0]]\n",
    "        steinergauss = tmp_df[df.columns[3]]\n",
    "        rowcol = tmp_df[df.columns[5]]\n",
    "        permrowcol = tmp_df[df.columns[7]]\n",
    "\n",
    "        plt.figure(i)\n",
    "        plt.plot(original, original, label=\"x=y\")\n",
    "        for i in range(n):\n",
    "            method = df.columns[2*i+3]\n",
    "            data = tmp_df[method]\n",
    "            plt.plot(original, data, label=method[0])\n",
    "        plt.title(arch.name)\n",
    "        plt.xlabel(\"Original CNOT count\")\n",
    "        plt.ylabel(\"Routed CNOT count\")\n",
    "        plt.legend()\n",
    "        plt.savefig(\"figs/\"+filename[:-4]+arch.name, dpi=150)\n",
    "        plt.show()\n"
   ]
  },
  {
   "cell_type": "code",
   "execution_count": null,
   "metadata": {},
   "outputs": [],
   "source": [
    "filename = \"PermRowCol results.csv\"\n",
    "archs = [\n",
    "    architecture.create_architecture(architecture.SQUARE, n_qubits=9),\n",
    "    architecture.create_architecture(architecture.SQUARE, n_qubits=16),\n",
    "    architecture.create_architecture(architecture.RIGETTI_16Q_ASPEN),\n",
    "    architecture.create_architecture(architecture.IBM_QX5),\n",
    "    architecture.create_architecture(architecture.IBM_Q20_TOKYO)\n",
    "]\n",
    "plot_results(filename, archs)"
   ]
  },
  {
   "cell_type": "code",
   "execution_count": null,
   "metadata": {},
   "outputs": [],
   "source": [
    "filename = \"A* PermRowCol results.csv\"\n",
    "archs = [\n",
    "    architecture.create_architecture(architecture.FULLY_CONNNECTED, n_qubits=5),\n",
    "    architecture.create_architecture(architecture.LINE, n_qubits=5),\n",
    "    architecture.create_architecture(architecture.IBM_QX2),\n",
    "    architecture.create_architecture(architecture.IBM_QX4)\n",
    "]\n",
    "plot_results(filename, archs, n=6)"
   ]
  },
  {
   "cell_type": "code",
   "execution_count": null,
   "metadata": {},
   "outputs": [],
   "source": [
    "filename = \"PermRowCol results UNCONSTRAINED.csv\"\n",
    "fully_connected_archs = [architecture.create_architecture(architecture.FULLY_CONNNECTED, n_qubits=n) for n in [5, 9, 16, 20]]\n",
    "plot_results(filename, fully_connected_archs)"
   ]
  }
 ],
 "metadata": {
  "interpreter": {
   "hash": "7c55d81be2c2f16b11dc485c915312baeb91d9c46498e454e73f07abf018bec5"
  },
  "kernelspec": {
   "display_name": "Python 3 (ipykernel)",
   "language": "python",
   "name": "python3"
  },
  "language_info": {
   "codemirror_mode": {
    "name": "ipython",
    "version": 3
   },
   "file_extension": ".py",
   "mimetype": "text/x-python",
   "name": "python",
   "nbconvert_exporter": "python",
   "pygments_lexer": "ipython3",
   "version": "3.10.8"
  }
 },
 "nbformat": 4,
 "nbformat_minor": 2
}
