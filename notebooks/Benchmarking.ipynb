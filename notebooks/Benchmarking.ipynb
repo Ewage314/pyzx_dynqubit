{
 "cells": [
  {
   "cell_type": "code",
   "execution_count": null,
   "id": "210acdb3",
   "metadata": {},
   "outputs": [],
   "source": []
  },
  {
   "cell_type": "code",
   "execution_count": 3,
   "id": "f50590f5",
   "metadata": {},
   "outputs": [
    {
     "data": {
      "text/plain": [
       "[H q[0]; Rz(0.25) q[0]; CX q[1], q[0]; Measure q[0] --> c[0]; Measure q[1] --> c[1]; ]"
      ]
     },
     "execution_count": 3,
     "metadata": {},
     "output_type": "execute_result"
    }
   ],
   "source": [
    "from pytket import Circuit\n",
    "\n",
    "circ = Circuit(2,2) # define a circuit with 2 qubits and 2 bits\n",
    "circ.H(0)           # add a Hadamard gate to qubit 0\n",
    "circ.Rz(0.25, 0)    # add an Rz gate of angle 0.25*pi to qubit 0\n",
    "circ.CX(1,0)        # add a CX gate with control qubit 1 and target qubit 0\n",
    "circ.measure_all()  # measure qubits 0 and 1, recording the results in bits 0 and 1"
   ]
  },
  {
   "cell_type": "code",
   "execution_count": null,
   "id": "bf69ec84",
   "metadata": {},
   "outputs": [],
   "source": []
  }
 ],
 "metadata": {
  "kernelspec": {
   "display_name": "Python 3 (ipykernel)",
   "language": "python",
   "name": "python3"
  },
  "language_info": {
   "codemirror_mode": {
    "name": "ipython",
    "version": 3
   },
   "file_extension": ".py",
   "mimetype": "text/x-python",
   "name": "python",
   "nbconvert_exporter": "python",
   "pygments_lexer": "ipython3",
   "version": "3.10.9"
  }
 },
 "nbformat": 4,
 "nbformat_minor": 5
}
