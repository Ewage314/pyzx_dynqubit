{
 "cells": [
  {
   "cell_type": "code",
   "execution_count": 1,
   "id": "f50590f5",
   "metadata": {
    "scrolled": false
   },
   "outputs": [],
   "source": [
    "import sys; sys.path.insert(0, '..') # So that we import the local copy of pyzx if you have installed from Github\n",
    "import os\n",
    "import csv\n",
    "\n",
    "import math\n",
    "import numpy as np\n",
    "import pandas as pd\n",
    "import matplotlib\n",
    "import matplotlib.pyplot as plt\n",
    "%matplotlib inline \n",
    "\n",
    "from multiprocessing import Pool\n",
    "import pyzx as zx\n",
    "from pyzx import cnot_mapper, architecture # Note that this is the local pyzx package from this repository/fork, not the one installed through pip or other means.\n",
    "from pyzx import circuit\n",
    "from pyzx import *\n",
    "from pyzx.parity_maps import CNOT_tracker, build_random_parity_map\n",
    "from pyzx.linalg import Mat2\n",
    "from pyzx.simplify import full_reduce"
   ]
  },
  {
   "cell_type": "markdown",
   "id": "93cf583e",
   "metadata": {},
   "source": [
    "Load Circuits for CombRowCol"
   ]
  },
  {
   "cell_type": "code",
   "execution_count": 2,
   "id": "bafd8d21",
   "metadata": {
    "scrolled": false
   },
   "outputs": [],
   "source": [
    "comb_circuit_folder = \"../circuits/combs-ZX-prop/\"\n",
    "\n",
    "n_qubits = [16]\n",
    "n_cnots = [4,8,16,32,64,128,256,512,1024]\n",
    "#n_non_cnots = [0,1,2,4,5,8,10,15,20]\n",
    "#n_non_cnots = [0,4,10,20]\n",
    "non_cnot_proportion = 0.15\n",
    "loaded_circuits = {}\n",
    "for qubits in n_qubits:\n",
    "    for cnots in n_cnots:\n",
    "        #for non_cnots in n_non_cnots:\n",
    "        non_cnots = math.ceil(cnots * non_cnot_proportion)\n",
    "        circuit_properties = {\"Qubits\"    : qubits,\n",
    "                              \"CNOTs\"     : cnots,\n",
    "                              \"Non-CNOTs\" : non_cnots}\n",
    "        path = os.path.join(comb_circuit_folder,\n",
    "                            str(circuit_properties[\"Qubits\"])+\"qubits\", \n",
    "                            str(circuit_properties[\"CNOTs\"])+\"cnots\", \n",
    "                            str(circuit_properties[\"Non-CNOTs\"])+\"non-cnots\")\n",
    "        loaded_circuits[f\"({qubits},{cnots},{non_cnots})\"] = []\n",
    "        if os.path.exists(path):\n",
    "            for file_name in os.listdir(path):\n",
    "                loaded_circuits[f\"({qubits},{cnots},{non_cnots})\"].append(circuit.Circuit.from_qasm_file(os.path.join(path, file_name)))\n",
    "        else:\n",
    "            print(\"Directory Does Not Exist\")"
   ]
  },
  {
   "cell_type": "code",
   "execution_count": 3,
   "id": "d6dc02f5",
   "metadata": {},
   "outputs": [
    {
     "name": "stdout",
     "output_type": "stream",
     "text": [
      "Qubits : 16, CNOTs : 4, Non-CNOTs : 1 -> 5, Ratio : 3.0\n",
      "Qubits : 16, CNOTs : 8, Non-CNOTs : 2 -> 5, Ratio : 3.875\n",
      "Qubits : 16, CNOTs : 16, Non-CNOTs : 3 -> 5, Ratio : 5.0125\n",
      "Qubits : 16, CNOTs : 32, Non-CNOTs : 5 -> 5, Ratio : 3.65\n",
      "Qubits : 16, CNOTs : 64, Non-CNOTs : 10 -> 5, Ratio : 2.73125\n",
      "Qubits : 16, CNOTs : 128, Non-CNOTs : 20 -> 5, Ratio : 1.93125\n",
      "Qubits : 16, CNOTs : 256, Non-CNOTs : 39 -> 5, Ratio : 1.69140625\n",
      "Qubits : 16, CNOTs : 512, Non-CNOTs : 77 -> 5, Ratio : 1.408984375\n",
      "Qubits : 16, CNOTs : 1024, Non-CNOTs : 154 -> 5, Ratio : 1.3962890625\n"
     ]
    }
   ],
   "source": [
    "from IPython.display import display, Markdown\n",
    "\n",
    "DEBUG = False\n",
    "OUTER_DISPLAY = False\n",
    "INNTER_DISPLAY = False\n",
    "\n",
    "for qubits in n_qubits:\n",
    "    #arch = architecture.create_architecture(architecture.SQUARE, n_qubits=qubits)\n",
    "    arch = architecture.create_ibm_q20_tokyo_architecture()\n",
    "    with open(f'COMBROWCOL - {arch.name}', mode='w') as csv_file:\n",
    "        writer = csv.writer(csv_file, delimiter=',')\n",
    "\n",
    "        for cnots in n_cnots:\n",
    "            non_cnots = math.ceil(cnots * non_cnot_proportion)\n",
    "            #for non_cnots in n_non_cnots:\n",
    "            equal = 0\n",
    "            ratios = []\n",
    "            for INDEX in range(5):\n",
    "                if False:\n",
    "                    # Get circuit\n",
    "                    circ = loaded_circuits[f\"({qubits},{cnots},{non_cnots})\"][INDEX]\n",
    "                    # Draw circuit\n",
    "                    OUTER_DISPLAY and display(zx.draw(circ))\n",
    "                    # Decompose circuit into comb and holes\n",
    "                    decomposition = CombDecomposition.from_circuit(circ.copy())\n",
    "                    comb = decomposition.comb\n",
    "                    # Draw comb\n",
    "                    OUTER_DISPLAY and display(zx.draw(comb))\n",
    "                    # Recompose circuit from comb and holes\n",
    "                    new_circuit = CombDecomposition.to_circuit(decomposition)\n",
    "                    # Display recomposed circuit\n",
    "                    OUTER_DISPLAY and display(zx.draw(new_circuit))\n",
    "                    # Check whether the recomposed circuit is the same as the original\n",
    "                    equality = new_circuit.verify_equality(circ)\n",
    "                    equal += equality\n",
    "                else:\n",
    "                    circ = loaded_circuits[f\"({qubits},{cnots},{non_cnots})\"][INDEX]\n",
    "                    new_circ, Id = combrowcol(circ, arch, DEBUG, OUTER_DISPLAY, INNTER_DISPLAY)\n",
    "                    gate_ratio = (len(new_circ.gates) - non_cnots)/(len(circ.gates) - non_cnots) - 1\n",
    "                    ratios.append(gate_ratio)\n",
    "                    equality = new_circ.verify_equality(circ)\n",
    "                    equal += equality\n",
    "                    #print(f\"INDEX: {INDEX} , GATE RATIO : {gate_ratio}\")\n",
    "                    #print(f\"INDEX: {INDEX} {equality}\")\n",
    "                    #equal += Id\n",
    "                    #print(f\"Reduced to identity : {INDEX} {Id}\")\n",
    "            print(f\"Qubits : {qubits}, CNOTs : {cnots}, Non-CNOTs : {non_cnots} -> {equal}, Ratio : {sum(ratios)/len(ratios)}\")\n",
    "            writer.writerow([qubits, cnots, non_cnots, sum(ratios)/len(ratios)])"
   ]
  },
  {
   "cell_type": "markdown",
   "id": "44fc86c7",
   "metadata": {},
   "source": [
    "Cut and Route Method"
   ]
  },
  {
   "cell_type": "code",
   "execution_count": 4,
   "id": "e9bf5657",
   "metadata": {},
   "outputs": [],
   "source": [
    "def subcircuits(circuit):\n",
    "    sub_circuits = []\n",
    "    for gate in circuit.gates:\n",
    "        if len(sub_circuits) == 0:\n",
    "            sub_circuits.append([gate])\n",
    "        else:\n",
    "            current_name = sub_circuits[-1][0].name\n",
    "            if current_name == \"CNOT\":\n",
    "                if gate.name == \"CNOT\":\n",
    "                    sub_circuits[-1].append(gate)\n",
    "                else:\n",
    "                    sub_circuits.append([gate])\n",
    "            else:\n",
    "                if gate.name == \"CNOT\":\n",
    "                    sub_circuits.append([gate])\n",
    "                else:\n",
    "                    sub_circuits[-1].append(gate)\n",
    "    return sub_circuits\n",
    "\n",
    "def cutrowcol(circuit, arch):\n",
    "    sub_circuits = subcircuits(circ.copy())\n",
    "    new_circuit = Circuit(circuit.qubits)\n",
    "    for sub_circuit in sub_circuits:\n",
    "        if sub_circuit[0].name != \"CNOT\":\n",
    "            new_circuit.gates = new_circuit.gates + sub_circuit\n",
    "        else:\n",
    "            # Get matrix corresponding to CNOT sub circuit\n",
    "            cnottracker = CNOT_tracker(circuit.qubits)\n",
    "            cnottracker.gates = sub_circuit\n",
    "            cnottracker.update_matrix()\n",
    "            temp_circuit = CNOT_tracker(circuit.qubits)\n",
    "            # rowcol reduced the matrix of cnottracker to the identity under the constraints of\n",
    "            # arch, logging each row operation at a CNOT in temp_circuit\n",
    "            rowcol(cnottracker.matrix, arch, temp_circuit, debug=None)\n",
    "            # The gates of temp_circuit are then added to the new_circuit\n",
    "            new_circuit.gates = new_circuit.gates + temp_circuit.gates\n",
    "    return new_circuit\n",
    "    "
   ]
  },
  {
   "cell_type": "code",
   "execution_count": 5,
   "id": "d42ab4ce",
   "metadata": {},
   "outputs": [
    {
     "name": "stdout",
     "output_type": "stream",
     "text": [
      "Qubits : 16, CNOTs : 4, Non-CNOTs : 1 -> 20, Ratio : 5.075\n",
      "Qubits : 16, CNOTs : 8, Non-CNOTs : 2 -> 20, Ratio : 4.05\n",
      "Qubits : 16, CNOTs : 16, Non-CNOTs : 3 -> 20, Ratio : 4.5125\n",
      "Qubits : 16, CNOTs : 32, Non-CNOTs : 5 -> 20, Ratio : 4.1\n",
      "Qubits : 16, CNOTs : 64, Non-CNOTs : 10 -> 20, Ratio : 4.08515625\n",
      "Qubits : 16, CNOTs : 128, Non-CNOTs : 20 -> 20, Ratio : 4.13515625\n",
      "Qubits : 16, CNOTs : 256, Non-CNOTs : 39 -> 20, Ratio : 4.1484375\n",
      "Qubits : 16, CNOTs : 512, Non-CNOTs : 77 -> 20, Ratio : 4.1310546875\n",
      "Qubits : 16, CNOTs : 1024, Non-CNOTs : 154 -> 20, Ratio : 4.050634765625\n"
     ]
    }
   ],
   "source": [
    "from IPython.display import display, Markdown\n",
    "\n",
    "DEBUG = False\n",
    "OUTER_DISPLAY = False\n",
    "INNTER_DISPLAY = False\n",
    "\n",
    "\n",
    "for qubits in n_qubits:\n",
    "    #arch = architecture.create_architecture(architecture.SQUARE, n_qubits=qubits)\n",
    "    arch = architecture.create_ibm_q20_tokyo_architecture()\n",
    "    with open(f'CUTROWCOL - {arch.name}', mode='w') as csv_file:\n",
    "        #fieldnames = ['Number of Qubits', 'Number of CNOT Gates', 'Number of Non CNOT Gates']\n",
    "        writer = csv.writer(csv_file, delimiter=',')\n",
    "\n",
    "        for cnots in n_cnots:\n",
    "            non_cnots = math.ceil(cnots * non_cnot_proportion)\n",
    "            #for non_cnots in n_non_cnots:\n",
    "            equal = 0\n",
    "            ratios = []\n",
    "            for INDEX in range(20):\n",
    "                if False:\n",
    "                    circ = loaded_circuits[f\"({qubits},{cnots},{non_cnots})\"][INDEX]\n",
    "                    print(f\"Gates : {circ.gates}\")\n",
    "                    print(f\"Sub Circuits : {subcircuits(circ)}\")\n",
    "                else:\n",
    "                    circ = loaded_circuits[f\"({qubits},{cnots},{non_cnots})\"][INDEX]                                        \n",
    "                    new_circ = cutrowcol(circ, arch)\n",
    "                    gate_ratio = (len(new_circ.gates) - non_cnots)/(len(circ.gates) - non_cnots) - 1\n",
    "                    ratios.append(gate_ratio)\n",
    "                    equality = new_circ.verify_equality(circ)\n",
    "                    equal += equality\n",
    "                    #print(f\"INDEX: {INDEX} , GATE RATIO : {gate_ratio}\")\n",
    "                    #print(f\"INDEX: {INDEX} {equality}\")\n",
    "            print(f\"Qubits : {qubits}, CNOTs : {cnots}, Non-CNOTs : {non_cnots} -> {equal}, Ratio : {sum(ratios)/len(ratios)}\")\n",
    "            writer.writerow([qubits, cnots, non_cnots, sum(ratios)/len(ratios)])"
   ]
  },
  {
   "cell_type": "code",
   "execution_count": null,
   "id": "d3f69787",
   "metadata": {},
   "outputs": [],
   "source": []
  },
  {
   "cell_type": "code",
   "execution_count": null,
   "id": "7185f167",
   "metadata": {},
   "outputs": [],
   "source": []
  }
 ],
 "metadata": {
  "kernelspec": {
   "display_name": "Python 3 (ipykernel)",
   "language": "python",
   "name": "python3"
  },
  "language_info": {
   "codemirror_mode": {
    "name": "ipython",
    "version": 3
   },
   "file_extension": ".py",
   "mimetype": "text/x-python",
   "name": "python",
   "nbconvert_exporter": "python",
   "pygments_lexer": "ipython3",
   "version": "3.10.9"
  }
 },
 "nbformat": 4,
 "nbformat_minor": 5
}
