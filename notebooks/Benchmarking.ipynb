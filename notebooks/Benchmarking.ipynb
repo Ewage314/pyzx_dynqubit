{
 "cells": [
  {
   "cell_type": "code",
   "execution_count": 1,
   "id": "f50590f5",
   "metadata": {
    "scrolled": false
   },
   "outputs": [],
   "source": [
    "import sys; sys.path.insert(0, '..') # So that we import the local copy of pyzx if you have installed from Github\n",
    "import os\n",
    "\n",
    "import numpy as np\n",
    "import pandas as pd\n",
    "import matplotlib\n",
    "import matplotlib.pyplot as plt\n",
    "%matplotlib inline \n",
    "\n",
    "from multiprocessing import Pool\n",
    "import pyzx as zx\n",
    "from pyzx import cnot_mapper, architecture # Note that this is the local pyzx package from this repository/fork, not the one installed through pip or other means.\n",
    "from pyzx import circuit\n",
    "from pyzx import *\n",
    "from pyzx.parity_maps import CNOT_tracker, build_random_parity_map\n",
    "from pyzx.linalg import Mat2\n",
    "from pyzx.simplify import full_reduce"
   ]
  },
  {
   "cell_type": "markdown",
   "id": "93cf583e",
   "metadata": {},
   "source": [
    "Load Circuits for CombRowCol"
   ]
  },
  {
   "cell_type": "code",
   "execution_count": 2,
   "id": "bafd8d21",
   "metadata": {
    "scrolled": false
   },
   "outputs": [],
   "source": [
    "comb_circuit_folder = \"../circuits/combs-ZX/\"\n",
    "\n",
    "n_qubits = [9]\n",
    "n_cnots = [5,8,10,15,20]\n",
    "n_non_cnots = [0,1,2,4,5,8,10,15,20]\n",
    "loaded_circuits = {}\n",
    "for qubits in n_qubits:\n",
    "    for cnots in n_cnots:\n",
    "        for non_cnots in n_non_cnots:\n",
    "            circuit_properties = {\"Qubits\"    : qubits,\n",
    "                                  \"CNOTs\"     : cnots,\n",
    "                                  \"Non-CNOTs\" : non_cnots}\n",
    "            path = os.path.join(comb_circuit_folder,\n",
    "                                str(circuit_properties[\"Qubits\"])+\"qubits\", \n",
    "                                str(circuit_properties[\"CNOTs\"])+\"cnots\", \n",
    "                                str(circuit_properties[\"Non-CNOTs\"])+\"non-cnots\")\n",
    "            loaded_circuits[f\"({qubits},{cnots},{non_cnots})\"] = []\n",
    "            if os.path.exists(path):\n",
    "                for file_name in os.listdir(path):\n",
    "                    loaded_circuits[f\"({qubits},{cnots},{non_cnots})\"].append(circuit.Circuit.from_qasm_file(os.path.join(path, file_name)))\n",
    "            else:\n",
    "                print(\"Directory Does Not Exist\")"
   ]
  },
  {
   "cell_type": "code",
   "execution_count": 3,
   "id": "d6dc02f5",
   "metadata": {},
   "outputs": [
    {
     "name": "stdout",
     "output_type": "stream",
     "text": [
      "Qubits : 9, CNOTs : 5, Non-CNOTs : 0 -> 100, Ratio : 3.17\n",
      "Qubits : 9, CNOTs : 5, Non-CNOTs : 1 -> 100, Ratio : 2.8033333333333332\n",
      "Qubits : 9, CNOTs : 5, Non-CNOTs : 2 -> 100, Ratio : 2.402857142857143\n",
      "Qubits : 9, CNOTs : 5, Non-CNOTs : 4 -> 100, Ratio : 1.768888888888889\n",
      "Qubits : 9, CNOTs : 5, Non-CNOTs : 5 -> 100, Ratio : 1.8470000000000006\n",
      "Qubits : 9, CNOTs : 5, Non-CNOTs : 8 -> 100, Ratio : 1.3784615384615382\n",
      "Qubits : 9, CNOTs : 5, Non-CNOTs : 10 -> 100, Ratio : 1.2193333333333336\n",
      "Qubits : 9, CNOTs : 5, Non-CNOTs : 15 -> 100, Ratio : 0.8970000000000004\n",
      "Qubits : 9, CNOTs : 5, Non-CNOTs : 20 -> 100, Ratio : 0.8312000000000004\n",
      "Qubits : 9, CNOTs : 8, Non-CNOTs : 0 -> 100, Ratio : 2.44875\n",
      "Qubits : 9, CNOTs : 8, Non-CNOTs : 1 -> 100, Ratio : 2.311111111111112\n",
      "Qubits : 9, CNOTs : 8, Non-CNOTs : 2 -> 100, Ratio : 2.202\n",
      "Qubits : 9, CNOTs : 8, Non-CNOTs : 4 -> 100, Ratio : 1.9458333333333337\n",
      "Qubits : 9, CNOTs : 8, Non-CNOTs : 5 -> 100, Ratio : 1.9307692307692315\n",
      "Qubits : 9, CNOTs : 8, Non-CNOTs : 8 -> 100, Ratio : 1.825625\n",
      "Qubits : 9, CNOTs : 8, Non-CNOTs : 10 -> 100, Ratio : 1.4411111111111117\n",
      "Qubits : 9, CNOTs : 8, Non-CNOTs : 15 -> 100, Ratio : 1.2417391304347822\n",
      "Qubits : 9, CNOTs : 8, Non-CNOTs : 20 -> 100, Ratio : 1.0774999999999997\n",
      "Qubits : 9, CNOTs : 10, Non-CNOTs : 0 -> 100, Ratio : 2.38\n",
      "Qubits : 9, CNOTs : 10, Non-CNOTs : 1 -> 100, Ratio : 2.2354545454545467\n",
      "Qubits : 9, CNOTs : 10, Non-CNOTs : 2 -> 100, Ratio : 2.0983333333333327\n",
      "Qubits : 9, CNOTs : 10, Non-CNOTs : 4 -> 100, Ratio : 1.9878571428571434\n",
      "Qubits : 9, CNOTs : 10, Non-CNOTs : 5 -> 100, Ratio : 1.96\n",
      "Qubits : 9, CNOTs : 10, Non-CNOTs : 8 -> 100, Ratio : 1.7133333333333338\n",
      "Qubits : 9, CNOTs : 10, Non-CNOTs : 10 -> 100, Ratio : 1.6104999999999998\n",
      "Qubits : 9, CNOTs : 10, Non-CNOTs : 15 -> 100, Ratio : 1.4200000000000006\n",
      "Qubits : 9, CNOTs : 10, Non-CNOTs : 20 -> 100, Ratio : 1.2003333333333337\n",
      "Qubits : 9, CNOTs : 15, Non-CNOTs : 0 -> 100, Ratio : 1.7693333333333334\n",
      "Qubits : 9, CNOTs : 15, Non-CNOTs : 1 -> 100, Ratio : 1.816875\n",
      "Qubits : 9, CNOTs : 15, Non-CNOTs : 2 -> 100, Ratio : 1.868235294117647\n",
      "Qubits : 9, CNOTs : 15, Non-CNOTs : 4 -> 100, Ratio : 1.8284210526315794\n",
      "Qubits : 9, CNOTs : 15, Non-CNOTs : 5 -> 100, Ratio : 1.9024999999999994\n",
      "Qubits : 9, CNOTs : 15, Non-CNOTs : 8 -> 100, Ratio : 1.8208695652173912\n",
      "Qubits : 9, CNOTs : 15, Non-CNOTs : 10 -> 100, Ratio : 1.7599999999999993\n",
      "Qubits : 9, CNOTs : 15, Non-CNOTs : 15 -> 100, Ratio : 1.568666666666666\n",
      "Qubits : 9, CNOTs : 15, Non-CNOTs : 20 -> 100, Ratio : 1.432285714285714\n",
      "Qubits : 9, CNOTs : 20, Non-CNOTs : 0 -> 100, Ratio : 1.4349999999999996\n",
      "Qubits : 9, CNOTs : 20, Non-CNOTs : 1 -> 100, Ratio : 1.3904761904761906\n",
      "Qubits : 9, CNOTs : 20, Non-CNOTs : 2 -> 100, Ratio : 1.5686363636363632\n",
      "Qubits : 9, CNOTs : 20, Non-CNOTs : 4 -> 100, Ratio : 1.5612500000000002\n",
      "Qubits : 9, CNOTs : 20, Non-CNOTs : 5 -> 100, Ratio : 1.6488000000000003\n",
      "Qubits : 9, CNOTs : 20, Non-CNOTs : 8 -> 100, Ratio : 1.7064285714285712\n",
      "Qubits : 9, CNOTs : 20, Non-CNOTs : 10 -> 100, Ratio : 1.7213333333333336\n",
      "Qubits : 9, CNOTs : 20, Non-CNOTs : 15 -> 100, Ratio : 1.6614285714285708\n",
      "Qubits : 9, CNOTs : 20, Non-CNOTs : 20 -> 100, Ratio : 1.5007500000000003\n"
     ]
    }
   ],
   "source": [
    "from IPython.display import display, Markdown\n",
    "\n",
    "DEBUG = False\n",
    "OUTER_DISPLAY = False\n",
    "INNTER_DISPLAY = False\n",
    "\n",
    "for qubits in n_qubits:\n",
    "    for cnots in n_cnots:\n",
    "        for non_cnots in n_non_cnots:\n",
    "            arch = architecture.create_architecture(architecture.SQUARE, n_qubits=qubits)\n",
    "            equal = 0\n",
    "            ratios = []\n",
    "            for INDEX in range(100):\n",
    "                if False:\n",
    "                    # Get circuit\n",
    "                    circ = loaded_circuits[f\"({qubits},{cnots},{non_cnots})\"][INDEX]\n",
    "                    # Draw circuit\n",
    "                    OUTER_DISPLAY and display(zx.draw(circ))\n",
    "                    # Decompose circuit into comb and holes\n",
    "                    decomposition = CombDecomposition.from_circuit(circ.copy())\n",
    "                    comb = decomposition.comb\n",
    "                    # Draw comb\n",
    "                    OUTER_DISPLAY and display(zx.draw(comb))\n",
    "                    # Recompose circuit from comb and holes\n",
    "                    new_circuit = CombDecomposition.to_circuit(decomposition)\n",
    "                    # Display recomposed circuit\n",
    "                    OUTER_DISPLAY and display(zx.draw(new_circuit))\n",
    "                    # Check whether the recomposed circuit is the same as the original\n",
    "                    equality = new_circuit.verify_equality(circ)\n",
    "                    equal += equality\n",
    "                else:\n",
    "                    circ = loaded_circuits[f\"({qubits},{cnots},{non_cnots})\"][INDEX]\n",
    "                    new_circ, Id = combrowcol(circ, arch, DEBUG, OUTER_DISPLAY, INNTER_DISPLAY)\n",
    "                    gate_ratio = len(new_circ.gates)/len(circ.gates) - 1\n",
    "                    ratios.append(gate_ratio)\n",
    "                    equality = new_circ.verify_equality(circ)\n",
    "                    equal += equality\n",
    "                    #print(f\"INDEX: {INDEX} , GATE RATIO : {gate_ratio}\")\n",
    "                    #print(f\"INDEX: {INDEX} {equality}\")\n",
    "                    #equal += Id\n",
    "                    #print(f\"Reduced to identity : {INDEX} {Id}\")\n",
    "            print(f\"Qubits : {qubits}, CNOTs : {cnots}, Non-CNOTs : {non_cnots} -> {equal}, Ratio : {sum(ratios)/len(ratios)}\")"
   ]
  },
  {
   "cell_type": "code",
   "execution_count": null,
   "id": "d42ab4ce",
   "metadata": {},
   "outputs": [],
   "source": []
  }
 ],
 "metadata": {
  "kernelspec": {
   "display_name": "Python 3 (ipykernel)",
   "language": "python",
   "name": "python3"
  },
  "language_info": {
   "codemirror_mode": {
    "name": "ipython",
    "version": 3
   },
   "file_extension": ".py",
   "mimetype": "text/x-python",
   "name": "python",
   "nbconvert_exporter": "python",
   "pygments_lexer": "ipython3",
   "version": "3.10.9"
  }
 },
 "nbformat": 4,
 "nbformat_minor": 5
}
