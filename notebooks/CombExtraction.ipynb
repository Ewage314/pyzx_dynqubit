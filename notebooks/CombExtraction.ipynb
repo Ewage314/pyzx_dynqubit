{
 "cells": [
  {
   "cell_type": "code",
   "execution_count": 1,
   "id": "13abfb0b",
   "metadata": {},
   "outputs": [],
   "source": [
    "import sys; sys.path.insert(0, '..') # So that we import the local copy of pyzx if you have installed from Github\n",
    "import os\n",
    "\n",
    "import numpy as np\n",
    "import pandas as pd\n",
    "import matplotlib\n",
    "import matplotlib.pyplot as plt\n",
    "%matplotlib inline \n",
    "\n",
    "from multiprocessing import Pool\n",
    "import pyzx as zx\n",
    "from pyzx import cnot_mapper, architecture # Note that this is the local pyzx package from this repository/fork, not the one installed through pip or other means.\n",
    "from pyzx import circuit\n",
    "from pyzx import *\n",
    "from pyzx.parity_maps import CNOT_tracker, build_random_parity_map\n",
    "from pyzx.linalg import Mat2\n",
    "from pyzx.simplify import full_reduce"
   ]
  },
  {
   "cell_type": "markdown",
   "id": "693b7708",
   "metadata": {},
   "source": [
    "Load comb circuits"
   ]
  },
  {
   "cell_type": "code",
   "execution_count": 2,
   "id": "92e9c0ed",
   "metadata": {},
   "outputs": [],
   "source": [
    "comb_circuit_folder = \"../circuits/combs/\"\n",
    "\n",
    "circuit_properties = {\"Qubits\"    : 3,\n",
    "                      \"CNOTs\"     : 2,\n",
    "                      \"Non-CNOTs\" : 1}\n",
    "path = os.path.join(comb_circuit_folder, \n",
    "                    str(circuit_properties[\"Qubits\"])+\"qubits\", \n",
    "                    str(circuit_properties[\"CNOTs\"])+\"cnots\", \n",
    "                    str(circuit_properties[\"Non-CNOTs\"])+\"non-cnots\")\n",
    "loaded_circuits = []\n",
    "if os.path.exists(path):\n",
    "    for file_name in os.listdir(path):\n",
    "        loaded_circuits.append(circuit.Circuit.from_qasm_file(os.path.join(path, file_name)))\n",
    "else:\n",
    "    print(\"Directory Does Not Exist\")"
   ]
  },
  {
   "cell_type": "markdown",
   "id": "d19e236e",
   "metadata": {},
   "source": [
    "Test which circuits fail equality check when normal gaussian elimination is applied"
   ]
  },
  {
   "cell_type": "code",
   "execution_count": 5,
   "id": "1d424eb8",
   "metadata": {},
   "outputs": [
    {
     "name": "stdout",
     "output_type": "stream",
     "text": [
      "0 : True\n",
      "1 : True\n",
      "2 : True\n",
      "3 : True\n",
      "4 : True\n",
      "5 : True\n",
      "6 : True\n",
      "7 : True\n",
      "8 : True\n",
      "9 : True\n",
      "10 : False\n",
      "11 : True\n",
      "12 : True\n",
      "13 : True\n",
      "14 : True\n",
      "15 : True\n",
      "16 : True\n",
      "17 : True\n",
      "18 : True\n",
      "19 : True\n",
      "20 : True\n",
      "21 : True\n",
      "22 : False\n",
      "23 : True\n",
      "24 : True\n",
      "25 : True\n",
      "26 : True\n",
      "27 : False\n",
      "28 : True\n",
      "29 : True\n",
      "30 : True\n",
      "31 : False\n",
      "32 : True\n",
      "33 : True\n",
      "34 : True\n",
      "35 : True\n",
      "36 : True\n",
      "37 : True\n",
      "38 : True\n",
      "39 : True\n",
      "40 : True\n",
      "41 : True\n",
      "42 : False\n",
      "43 : True\n",
      "44 : True\n",
      "45 : False\n",
      "46 : True\n",
      "47 : True\n",
      "48 : True\n",
      "49 : True\n",
      "50 : True\n",
      "51 : True\n",
      "52 : True\n",
      "53 : True\n",
      "54 : True\n",
      "55 : False\n",
      "56 : True\n",
      "57 : True\n",
      "58 : True\n",
      "59 : True\n",
      "60 : True\n",
      "61 : True\n",
      "62 : True\n",
      "63 : False\n",
      "64 : True\n",
      "65 : True\n",
      "66 : True\n",
      "67 : True\n",
      "68 : True\n",
      "69 : True\n",
      "70 : True\n",
      "71 : True\n",
      "72 : True\n",
      "73 : True\n",
      "74 : True\n",
      "75 : True\n",
      "76 : True\n",
      "77 : True\n",
      "78 : True\n",
      "79 : True\n",
      "80 : True\n",
      "81 : True\n",
      "82 : True\n",
      "83 : False\n",
      "84 : True\n",
      "85 : True\n",
      "86 : True\n",
      "87 : False\n",
      "88 : True\n",
      "89 : True\n",
      "90 : True\n",
      "91 : True\n",
      "92 : True\n",
      "93 : True\n",
      "94 : True\n",
      "95 : True\n",
      "96 : True\n",
      "97 : True\n",
      "98 : True\n",
      "99 : True\n"
     ]
    }
   ],
   "source": [
    "for circ in range(len(loaded_circuits)):\n",
    "    # Decompose circuit\n",
    "    comb_decomposition = CombDecomposition.from_circuit(loaded_circuits[circ].copy())\n",
    "    comb = comb_decomposition.comb\n",
    "    new_comb = CNOTComb(comb.qubits, comb.holes, comb.new_to_old_qubit_mappings)\n",
    "    comb.matrix.gauss(full_reduce=True, x=new_comb)\n",
    "    comb_decomposition.comb = new_comb\n",
    "    new_circuit = CombDecomposition.to_circuit(comb_decomposition)\n",
    "    print(\"{} : {}\".format(circ, new_circuit.verify_equality(loaded_circuits[circ])))   \n"
   ]
  },
  {
   "cell_type": "code",
   "execution_count": 6,
   "id": "313982dd",
   "metadata": {},
   "outputs": [
    {
     "data": {
      "application/vnd.jupyter.widget-view+json": {
       "model_id": "b657b9b506ca47a98bda2583b34470fc",
       "version_major": 2,
       "version_minor": 0
      },
      "text/plain": [
       "interactive(children=(IntSlider(value=0, description='circ', layout=Layout(width='800px'), max=99), Output(lay…"
      ]
     },
     "execution_count": 6,
     "metadata": {},
     "output_type": "execute_result"
    }
   ],
   "source": [
    "from ipywidgets import widgets\n",
    "from IPython.display import display, Markdown\n",
    "\n",
    "def plotter(circ):\n",
    "    # Decompose circuit\n",
    "    display(zx.draw(loaded_circuits[circ]))\n",
    "    comb_decomposition = CombDecomposition.from_circuit(loaded_circuits[circ].copy())\n",
    "    comb = comb_decomposition.comb\n",
    "    new_comb = CNOTComb(comb.qubits, comb.holes, comb.new_to_old_qubit_mappings)\n",
    "    comb.matrix.gauss(full_reduce=True, x=new_comb)\n",
    "    display(zx.draw(comb))\n",
    "    print(comb.gates)\n",
    "    display(zx.draw(new_comb))\n",
    "    print(new_comb.gates)\n",
    "    comb_decomposition.comb = new_comb\n",
    "    new_circuit = CombDecomposition.to_circuit(comb_decomposition)\n",
    "    display(zx.draw(new_circuit))\n",
    "    print(new_circuit.verify_equality(loaded_circuits[circ]))\n",
    "    \n",
    "w = widgets.interactive(plotter, circ=(0,len(loaded_circuits)-1))\n",
    "slider = w.children[0]\n",
    "slider.layout.width = \"{!s}px\".format(min(800,1000))\n",
    "output = w.children[-1]\n",
    "output.layout.height = \"{!s}px\".format(1200)\n",
    "slider.value = 0\n",
    "w"
   ]
  },
  {
   "cell_type": "code",
   "execution_count": 21,
   "id": "0f50eaa2",
   "metadata": {},
   "outputs": [
    {
     "data": {
      "image/png": "[encoded data removed]",
      "text/plain": [
       "<Figure size 800x200 with 1 Axes>"
      ]
     },
     "execution_count": 21,
     "metadata": {},
     "output_type": "execute_result"
    }
   ],
   "source": [
    "testMat = Mat2(np.array([\n",
    "    [1, 0, 0, 0],\n",
    "    [0, 1, 1, 1],\n",
    "    [0, 0, 1, 1]\n",
    "]))\n",
    "tempCirc = CNOT_tracker(3)\n",
    "testMat.gauss(full_reduce=True, x=tempCirc)\n",
    "zx.draw(tempCirc)"
   ]
  },
  {
   "cell_type": "code",
   "execution_count": null,
   "id": "ba7ef393",
   "metadata": {},
   "outputs": [],
   "source": []
  }
 ],
 "metadata": {
  "kernelspec": {
   "display_name": "Python 3 (ipykernel)",
   "language": "python",
   "name": "python3"
  },
  "language_info": {
   "codemirror_mode": {
    "name": "ipython",
    "version": 3
   },
   "file_extension": ".py",
   "mimetype": "text/x-python",
   "name": "python",
   "nbconvert_exporter": "python",
   "pygments_lexer": "ipython3",
   "version": "3.10.8"
  }
 },
 "nbformat": 4,
 "nbformat_minor": 5
}
