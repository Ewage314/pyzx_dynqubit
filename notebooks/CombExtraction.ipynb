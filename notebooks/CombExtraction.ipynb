{
 "cells": [
  {
   "cell_type": "code",
   "execution_count": 1,
   "id": "13abfb0b",
   "metadata": {},
   "outputs": [],
   "source": [
    "import sys; sys.path.insert(0, '..') # So that we import the local copy of pyzx if you have installed from Github\n",
    "import os\n",
    "\n",
    "import numpy as np\n",
    "import pandas as pd\n",
    "import matplotlib\n",
    "import matplotlib.pyplot as plt\n",
    "%matplotlib inline \n",
    "\n",
    "from multiprocessing import Pool\n",
    "import pyzx as zx\n",
    "from pyzx import cnot_mapper, architecture # Note that this is the local pyzx package from this repository/fork, not the one installed through pip or other means.\n",
    "from pyzx import circuit\n",
    "from pyzx import *\n",
    "from pyzx.parity_maps import CNOT_tracker, build_random_parity_map\n",
    "from pyzx.linalg import Mat2\n",
    "from pyzx.simplify import full_reduce"
   ]
  },
  {
   "cell_type": "markdown",
   "id": "693b7708",
   "metadata": {},
   "source": [
    "Load comb circuits"
   ]
  },
  {
   "cell_type": "code",
   "execution_count": 2,
   "id": "92e9c0ed",
   "metadata": {},
   "outputs": [],
   "source": [
    "comb_circuit_folder = \"../circuits/combs/\"\n",
    "\n",
    "circuit_properties = {\"Qubits\"    : 3,\n",
    "                      \"CNOTs\"     : 2,\n",
    "                      \"Non-CNOTs\" : 1}\n",
    "path = os.path.join(comb_circuit_folder, \n",
    "                    str(circuit_properties[\"Qubits\"])+\"qubits\", \n",
    "                    str(circuit_properties[\"CNOTs\"])+\"cnots\", \n",
    "                    str(circuit_properties[\"Non-CNOTs\"])+\"non-cnots\")\n",
    "loaded_circuits = []\n",
    "if os.path.exists(path):\n",
    "    for file_name in os.listdir(path):\n",
    "        loaded_circuits.append(circuit.Circuit.from_qasm_file(os.path.join(path, file_name)))\n",
    "else:\n",
    "    print(\"Directory Does Not Exist\")"
   ]
  },
  {
   "cell_type": "markdown",
   "id": "d19e236e",
   "metadata": {},
   "source": [
    "Test which circuits fail equality check when normal gaussian elimination is applied"
   ]
  },
  {
   "cell_type": "code",
   "execution_count": 3,
   "id": "1d424eb8",
   "metadata": {},
   "outputs": [
    {
     "name": "stdout",
     "output_type": "stream",
     "text": [
      "{0: {1: 1, 2: 1}, 1: {0: 1, 2: 1}, 2: {0: 1, 1: 1}}\n",
      "{0: {1: 1, 2: 1}, 1: {0: 1, 2: 1}, 2: {0: 1, 1: 1}, 3: {}}\n",
      "{0: {1: 1, 2: 1, 3: 1}, 1: {0: 1, 2: 1, 3: 1}, 2: {0: 1, 1: 1}, 3: {0: 1, 1: 1}}\n",
      "Row not correctly reduced in previous step!\n",
      "[ 1.0  0.0  0.0  0.0 ]\n",
      "[ 0.0  1.0  0.0  0.0 ]\n",
      "[ 0.0  0.0  1.0  0.0 ]\n",
      "[ 0.0  0.0  0.0  1.0 ]\n",
      "Any key to continue.\n"
     ]
    },
    {
     "ename": "Exception",
     "evalue": "Terminals not in the subgraph.[1][2, 3]",
     "output_type": "error",
     "traceback": [
      "\u001b[0;31m---------------------------------------------------------------------------\u001b[0m",
      "\u001b[0;31mException\u001b[0m                                 Traceback (most recent call last)",
      "Cell \u001b[0;32mIn [3], line 21\u001b[0m\n\u001b[1;32m     19\u001b[0m new_comb \u001b[38;5;241m=\u001b[39m CNOTComb(comb\u001b[38;5;241m.\u001b[39mqubits, comb\u001b[38;5;241m.\u001b[39mholes, comb\u001b[38;5;241m.\u001b[39mnew_to_old_qubit_mappings)\n\u001b[1;32m     20\u001b[0m \u001b[38;5;66;03m#comb.matrix.gauss(full_reduce=True, x=new_comb)\u001b[39;00m\n\u001b[0;32m---> 21\u001b[0m \u001b[43mcnot_mapper\u001b[49m\u001b[38;5;241;43m.\u001b[39;49m\u001b[43mgauss\u001b[49m\u001b[43m(\u001b[49m\u001b[43mcnot_mapper\u001b[49m\u001b[38;5;241;43m.\u001b[39;49m\u001b[43mROWCOL_MODE\u001b[49m\u001b[43m,\u001b[49m\n\u001b[1;32m     22\u001b[0m \u001b[43m                  \u001b[49m\u001b[43mcomb\u001b[49m\u001b[38;5;241;43m.\u001b[39;49m\u001b[43mmatrix\u001b[49m\u001b[43m,\u001b[49m\n\u001b[1;32m     23\u001b[0m \u001b[43m                  \u001b[49m\u001b[43mCombArchitecture\u001b[49m\u001b[43m(\u001b[49m\u001b[43mpre_arch\u001b[49m\u001b[43m,\u001b[49m\u001b[43m \u001b[49m\u001b[43mcomb\u001b[49m\u001b[43m)\u001b[49m\u001b[43m,\u001b[49m\n\u001b[1;32m     24\u001b[0m \u001b[43m                  \u001b[49m\u001b[43mcircuit\u001b[49m\u001b[43m \u001b[49m\u001b[38;5;241;43m=\u001b[39;49m\u001b[43m \u001b[49m\u001b[43mnew_comb\u001b[49m\n\u001b[1;32m     25\u001b[0m \u001b[43m                 \u001b[49m\u001b[43m)\u001b[49m\n\u001b[1;32m     26\u001b[0m comb_decomposition\u001b[38;5;241m.\u001b[39mcomb \u001b[38;5;241m=\u001b[39m new_comb\n\u001b[1;32m     27\u001b[0m new_circuit \u001b[38;5;241m=\u001b[39m CombDecomposition\u001b[38;5;241m.\u001b[39mto_circuit(comb_decomposition)\n",
      "File \u001b[0;32m~/Documents/pyzx_dynqubit/notebooks/../pyzx/routing/cnot_mapper.py:284\u001b[0m, in \u001b[0;36mgauss\u001b[0;34m(mode, matrix, architecture, permutation, circuit, **kwargs)\u001b[0m\n\u001b[1;32m    281\u001b[0m         \u001b[38;5;28mprint\u001b[39m(\n\u001b[1;32m    282\u001b[0m             \u001b[38;5;124m\"\u001b[39m\u001b[38;5;130;01m\\033\u001b[39;00m\u001b[38;5;124m[91m Warning: Architecture is not given, assuming fully connected architecture of size matrix.shape[0]. \u001b[39m\u001b[38;5;130;01m\\033\u001b[39;00m\u001b[38;5;124m[0m \u001b[39m\u001b[38;5;124m\"\u001b[39m)\n\u001b[1;32m    283\u001b[0m         architecture \u001b[38;5;241m=\u001b[39m create_fully_connected_architecture(\u001b[38;5;28mlen\u001b[39m(matrix\u001b[38;5;241m.\u001b[39mdata))\n\u001b[0;32m--> 284\u001b[0m     rank \u001b[38;5;241m=\u001b[39m  \u001b[43mrowcol\u001b[49m\u001b[43m(\u001b[49m\u001b[43mmatrix\u001b[49m\u001b[43m,\u001b[49m\u001b[43m \u001b[49m\u001b[43marchitecture\u001b[49m\u001b[43m,\u001b[49m\u001b[43m \u001b[49m\u001b[43mpermutation\u001b[49m\u001b[38;5;241;43m=\u001b[39;49m\u001b[43mpermutation\u001b[49m\u001b[43m,\u001b[49m\u001b[43m \u001b[49m\u001b[43mcircuit\u001b[49m\u001b[38;5;241;43m=\u001b[39;49m\u001b[43mcircuit\u001b[49m\u001b[43m,\u001b[49m\u001b[43m \u001b[49m\u001b[38;5;241;43m*\u001b[39;49m\u001b[38;5;241;43m*\u001b[39;49m\u001b[43mkwargs\u001b[49m\u001b[43m)\u001b[49m\n\u001b[1;32m    285\u001b[0m \u001b[38;5;28;01melif\u001b[39;00m mode \u001b[38;5;241m==\u001b[39m PERMROWCOL_MODE:\n\u001b[1;32m    286\u001b[0m     \u001b[38;5;66;03m#raise NotImplementedError(\"Genetic PermRowCOl not yet implemented\")\u001b[39;00m\n\u001b[1;32m    287\u001b[0m     output_perm \u001b[38;5;241m=\u001b[39m permrowcol(matrix, architecture, circuit\u001b[38;5;241m=\u001b[39mcircuit, \u001b[38;5;241m*\u001b[39m\u001b[38;5;241m*\u001b[39mkwargs)\n",
      "File \u001b[0;32m~/Documents/pyzx_dynqubit/notebooks/../pyzx/routing/steiner.py:221\u001b[0m, in \u001b[0;36mrowcol\u001b[0;34m(matrix, architecture, circuit, full_reduce, permutation, **kwargs)\u001b[0m\n\u001b[1;32m    219\u001b[0m edges \u001b[38;5;241m=\u001b[39m []\n\u001b[1;32m    220\u001b[0m steiner_tree \u001b[38;5;241m=\u001b[39m architecture\u001b[38;5;241m.\u001b[39mrec_steiner_tree(choice, nodes, rowcols_to_eliminate, [], \u001b[38;5;28;01mTrue\u001b[39;00m) \n\u001b[0;32m--> 221\u001b[0m edge \u001b[38;5;241m=\u001b[39m \u001b[38;5;28;43mnext\u001b[39;49m\u001b[43m(\u001b[49m\u001b[43msteiner_tree\u001b[49m\u001b[43m)\u001b[49m\n\u001b[1;32m    222\u001b[0m \u001b[38;5;28;01mwhile\u001b[39;00m edge \u001b[38;5;129;01mis\u001b[39;00m \u001b[38;5;129;01mnot\u001b[39;00m \u001b[38;5;28;01mNone\u001b[39;00m: \u001b[38;5;66;03m# ignore, this is pre-order traversal\u001b[39;00m\n\u001b[1;32m    223\u001b[0m     edge \u001b[38;5;241m=\u001b[39m \u001b[38;5;28mnext\u001b[39m(steiner_tree)\n",
      "File \u001b[0;32m~/Documents/pyzx_dynqubit/notebooks/../pyzx/routing/architecture.py:462\u001b[0m, in \u001b[0;36mArchitecture.rec_steiner_tree\u001b[0;34m(self, start_qubit, terminal_qubits, usable_qubits, rec_qubits, upper)\u001b[0m\n\u001b[1;32m    460\u001b[0m \u001b[38;5;28;01mdef\u001b[39;00m \u001b[38;5;21mrec_steiner_tree\u001b[39m(\u001b[38;5;28mself\u001b[39m, start_qubit, terminal_qubits, usable_qubits, rec_qubits, upper\u001b[38;5;241m=\u001b[39m\u001b[38;5;28;01mTrue\u001b[39;00m):\n\u001b[1;32m    461\u001b[0m     \u001b[38;5;28;01mif\u001b[39;00m \u001b[38;5;129;01mnot\u001b[39;00m \u001b[38;5;28mall\u001b[39m([q \u001b[38;5;129;01min\u001b[39;00m usable_qubits \u001b[38;5;28;01mfor\u001b[39;00m q \u001b[38;5;129;01min\u001b[39;00m terminal_qubits]):\n\u001b[0;32m--> 462\u001b[0m         \u001b[38;5;28;01mraise\u001b[39;00m \u001b[38;5;167;01mException\u001b[39;00m(\u001b[38;5;124m\"\u001b[39m\u001b[38;5;124mTerminals not in the subgraph.\u001b[39m\u001b[38;5;124m\"\u001b[39m \u001b[38;5;241m+\u001b[39m \u001b[38;5;28mstr\u001b[39m(terminal_qubits) \u001b[38;5;241m+\u001b[39m \u001b[38;5;28mstr\u001b[39m(usable_qubits))\n\u001b[1;32m    463\u001b[0m     \u001b[38;5;66;03m# Builds the steiner tree with start as root, contains at least nodes and at most useable_nodes\u001b[39;00m\n\u001b[1;32m    464\u001b[0m     debug_trace \u001b[38;5;241m=\u001b[39m {\n\u001b[1;32m    465\u001b[0m         \u001b[38;5;124m\"\u001b[39m\u001b[38;5;124mstart\u001b[39m\u001b[38;5;124m\"\u001b[39m:start_qubit,\n\u001b[1;32m    466\u001b[0m         \u001b[38;5;124m\"\u001b[39m\u001b[38;5;124mterminal qubits\u001b[39m\u001b[38;5;124m\"\u001b[39m: terminal_qubits,\n\u001b[0;32m   (...)\u001b[0m\n\u001b[1;32m    470\u001b[0m         \u001b[38;5;124m\"\u001b[39m\u001b[38;5;124mgraph_trace\u001b[39m\u001b[38;5;124m\"\u001b[39m: []\n\u001b[1;32m    471\u001b[0m     }\n",
      "\u001b[0;31mException\u001b[0m: Terminals not in the subgraph.[1][2, 3]"
     ]
    }
   ],
   "source": [
    "gauss = False\n",
    "\n",
    "if gauss:\n",
    "    for circ in range(len(loaded_circuits)):\n",
    "        # Decompose circuit\n",
    "        comb_decomposition = CombDecomposition.from_circuit(loaded_circuits[circ].copy())\n",
    "        comb = comb_decomposition.comb\n",
    "        new_comb = CNOTComb(comb.qubits, comb.holes, comb.new_to_old_qubit_mappings)\n",
    "        comb.matrix.gauss(full_reduce=True, x=new_comb)\n",
    "        comb_decomposition.comb = new_comb\n",
    "        new_circuit = CombDecomposition.to_circuit(comb_decomposition)\n",
    "        print(\"{} : {}\".format(circ, new_circuit.verify_equality(loaded_circuits[circ])))   \n",
    "else:\n",
    "    for circ in range(len(loaded_circuits)):\n",
    "        # Decompose circuit\n",
    "        comb_decomposition = CombDecomposition.from_circuit(loaded_circuits[circ].copy())\n",
    "        comb = comb_decomposition.comb\n",
    "        pre_arch = architecture.create_architecture(architecture.FULLY_CONNNECTED, n_qubits=loaded_circuits[circ].qubits)\n",
    "        new_comb = CNOTComb(comb.qubits, comb.holes, comb.new_to_old_qubit_mappings)\n",
    "        #comb.matrix.gauss(full_reduce=True, x=new_comb)\n",
    "        cnot_mapper.gauss(cnot_mapper.ROWCOL_MODE,\n",
    "                          comb.matrix,\n",
    "                          CombArchitecture(pre_arch, comb),\n",
    "                          circuit = new_comb\n",
    "                         )\n",
    "        comb_decomposition.comb = new_comb\n",
    "        new_circuit = CombDecomposition.to_circuit(comb_decomposition)\n",
    "        print(\"{} : {}\".format(circ, new_circuit.verify_equality(loaded_circuits[circ])))   \n",
    "    "
   ]
  },
  {
   "cell_type": "code",
   "execution_count": null,
   "id": "c9e236f1",
   "metadata": {},
   "outputs": [],
   "source": [
    "circ = 0\n",
    "\n",
    "comb_decomposition = CombDecomposition.from_circuit(loaded_circuits[circ].copy())\n",
    "comb = comb_decomposition.comb\n",
    "pre_arch = architecture.create_architecture(architecture.FULLY_CONNNECTED, n_qubits=loaded_circuits[circ].qubits)\n",
    "#pre_arch.visualize(\"Pre\")\n",
    "#CombArchitecture(pre_arch, comb).visualize(\"Post\")\n",
    "new_comb = CNOTComb(comb.qubits, comb.holes, comb.new_to_old_qubit_mappings)\n",
    "'''\n",
    "cnot_mapper.gauss(cnot_mapper.ROWCOL_MODE,\n",
    "                  comb.matrix,\n",
    "                  CombArchitecture(pre_arch, comb),\n",
    "                  circuit = new_comb\n",
    "                 )\n",
    "'''\n",
    "m = np.array([\n",
    "    [0, 1, 1, 1],\n",
    "    [1, 0, 1, 1],\n",
    "    [1, 1, 0, 0],\n",
    "    [1, 1, 0, 0],\n",
    "])\n",
    "cnot_mapper.gauss(cnot_mapper.ROWCOL_MODE,\n",
    "                  comb.matrix,\n",
    "                  Architecture(name=\"Temp\", coupling_matrix=m),\n",
    "                  circuit = new_comb\n",
    "                 )\n",
    "comb_decomposition.comb = new_comb\n",
    "new_circuit = CombDecomposition.to_circuit(comb_decomposition)\n",
    "print(\"{} : {}\".format(circ, new_circuit.verify_equality(loaded_circuits[circ])))   "
   ]
  },
  {
   "cell_type": "code",
   "execution_count": 4,
   "id": "313982dd",
   "metadata": {},
   "outputs": [
    {
     "data": {
      "application/vnd.jupyter.widget-view+json": {
       "model_id": "72cc92e3a44348b5b5b26dba960303bc",
       "version_major": 2,
       "version_minor": 0
      },
      "text/plain": [
       "interactive(children=(IntSlider(value=0, description='circ', layout=Layout(width='800px'), max=99), Output(lay…"
      ]
     },
     "execution_count": 4,
     "metadata": {},
     "output_type": "execute_result"
    }
   ],
   "source": [
    "from ipywidgets import widgets\n",
    "from IPython.display import display, Markdown\n",
    "\n",
    "def plotter(circ):\n",
    "    # Decompose circuit\n",
    "    display(zx.draw(loaded_circuits[circ]))\n",
    "    comb_decomposition = CombDecomposition.from_circuit(loaded_circuits[circ].copy())\n",
    "    comb = comb_decomposition.comb\n",
    "    new_comb = CNOTComb(comb.qubits, comb.holes, comb.new_to_old_qubit_mappings)\n",
    "    #comb.matrix.gauss(full_reduce=True, x=new_comb)\n",
    "    cnot_mapper.gauss(cnot_mapper.ROWCOL_MODE,\n",
    "                      comb.matrix,\n",
    "                      architecture.create_architecture(architecture.FULLY_CONNNECTED, n_qubits=(comb.matrix.cols()+len(comb.holes))),\n",
    "                      circuit=new_comb\n",
    "                     )\n",
    "    display(zx.draw(comb))\n",
    "    print(comb.gates)\n",
    "    display(zx.draw(new_comb))\n",
    "    print(new_comb.gates)\n",
    "    comb_decomposition.comb = new_comb\n",
    "    new_circuit = CombDecomposition.to_circuit(comb_decomposition)\n",
    "    display(zx.draw(new_circuit))\n",
    "    print(new_circuit.verify_equality(loaded_circuits[circ]))\n",
    "    \n",
    "w = widgets.interactive(plotter, circ=(0,len(loaded_circuits)-1))\n",
    "slider = w.children[0]\n",
    "slider.layout.width = \"{!s}px\".format(min(800,1000))\n",
    "output = w.children[-1]\n",
    "output.layout.height = \"{!s}px\".format(1200)\n",
    "slider.value = 0\n",
    "w"
   ]
  },
  {
   "cell_type": "markdown",
   "id": "a92cdb19",
   "metadata": {},
   "source": [
    "Manually step through a simple representation of the proposed optimization algorithm. We generate an ordered list of vertices we wish to remove, oneying causallity. We then remove the vertices in order only using the qubits that are available at that point, this will be done by applying the rowcol algorithm to a submatrix of the full parity matrix which has rows removed."
   ]
  },
  {
   "cell_type": "code",
   "execution_count": null,
   "id": "61f83908",
   "metadata": {},
   "outputs": [],
   "source": [
    "def extract_sub_matrix(matrix, index_list):\n",
    "    new_matrix = Mat2(np.zeros([matrix.rows(), len(index_list)], dtype=int))\n",
    "    for row in range(new_matrix.rows()):\n",
    "        for col in range(new_matrix.cols()):\n",
    "            new_matrix.data[row][col] = matrix.data[row][index_list[col]]\n",
    "    return new_matrix\n",
    "def insert_sub_matrix(matrix, sub_matrix, index_list):\n",
    "    for row in range(sub_matrix.rows()):\n",
    "        for col in range(sub_matrix.cols()):\n",
    "            matrix.data[row][index_list[col]] = sub_matrix.data[row][col]\n",
    "    return matrix"
   ]
  },
  {
   "cell_type": "code",
   "execution_count": 7,
   "id": "0f50eaa2",
   "metadata": {},
   "outputs": [
    {
     "data": {
      "image/png": "[encoded data removed]",
      "text/plain": [
       "<Figure size 800x200 with 1 Axes>"
      ]
     },
     "execution_count": 7,
     "metadata": {},
     "output_type": "execute_result"
    }
   ],
   "source": [
    "\n",
    "\n",
    "testMat = Mat2(np.array([\n",
    "    [1, 0, 0, 0],\n",
    "    [0, 1, 1, 1],\n",
    "    [0, 0, 1, 1]\n",
    "]))\n",
    "tempCirc = CNOT_tracker(3)\n",
    "#testMat.gauss(full_reduce=True, x=tempCirc)\n",
    "cnot_mapper.gauss(cnot_mapper.ROWCOL_MODE,\n",
    "                  testMat,\n",
    "                  architecture.create_architecture(architecture.FULLY_CONNNECTED, n_qubits=(comb.matrix.cols()+len(comb.holes))),\n",
    "                  circuit=tempCirc)\n",
    "                     \n",
    "zx.draw(tempCirc)"
   ]
  },
  {
   "cell_type": "code",
   "execution_count": null,
   "id": "ba7ef393",
   "metadata": {},
   "outputs": [],
   "source": []
  }
 ],
 "metadata": {
  "kernelspec": {
   "display_name": "Python 3 (ipykernel)",
   "language": "python",
   "name": "python3"
  },
  "language_info": {
   "codemirror_mode": {
    "name": "ipython",
    "version": 3
   },
   "file_extension": ".py",
   "mimetype": "text/x-python",
   "name": "python",
   "nbconvert_exporter": "python",
   "pygments_lexer": "ipython3",
   "version": "3.10.9"
  }
 },
 "nbformat": 4,
 "nbformat_minor": 5
}
