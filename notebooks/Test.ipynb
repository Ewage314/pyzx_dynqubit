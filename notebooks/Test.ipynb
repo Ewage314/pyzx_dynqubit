{
 "cells": [
  {
   "cell_type": "code",
   "execution_count": 1,
   "id": "728560dd",
   "metadata": {},
   "outputs": [],
   "source": [
    "import numpy as np\n",
    "from pyzx.linalg import Mat2"
   ]
  },
  {
   "cell_type": "code",
   "execution_count": 2,
   "id": "97ba0c8c",
   "metadata": {},
   "outputs": [],
   "source": [
    "A = [[1, 0, 1],\n",
    "     [0, 0, 1]]\n",
    "B = [0, 0, 1]"
   ]
  },
  {
   "cell_type": "code",
   "execution_count": 3,
   "id": "934dc7ec",
   "metadata": {},
   "outputs": [
    {
     "data": {
      "text/plain": [
       "array([[ 1., -1.],\n",
       "       [ 0.,  0.],\n",
       "       [-0.,  1.]])"
      ]
     },
     "execution_count": 3,
     "metadata": {},
     "output_type": "execute_result"
    }
   ],
   "source": [
    "np.linalg.pinv(A)"
   ]
  },
  {
   "cell_type": "code",
   "execution_count": 4,
   "id": "a8998707",
   "metadata": {},
   "outputs": [
    {
     "data": {
      "text/plain": [
       "array([-0.,  1.])"
      ]
     },
     "execution_count": 4,
     "metadata": {},
     "output_type": "execute_result"
    }
   ],
   "source": [
    "np.linalg.pinv(A).transpose().dot(B)"
   ]
  },
  {
   "cell_type": "code",
   "execution_count": 42,
   "id": "85949796",
   "metadata": {},
   "outputs": [],
   "source": [
    "a = np.array([[1,1],\n",
    "              [0,1],\n",
    "              [1,0]], dtype=int)\n",
    "b = np.array([[0],[1],[1]], dtype=int)"
   ]
  },
  {
   "cell_type": "code",
   "execution_count": 6,
   "id": "c1c01b12",
   "metadata": {},
   "outputs": [
    {
     "name": "stdout",
     "output_type": "stream",
     "text": [
      "[1 1]\n"
     ]
    }
   ],
   "source": [
    "at = a.transpose()\n",
    "ata = at.dot(a)%2\n",
    "ata_inv = np.array(Mat2(ata).inverse().data)\n",
    "atb = at.dot(b)%2\n",
    "X = ata_inv.dot(atb)%2\n",
    "print(X)"
   ]
  },
  {
   "cell_type": "code",
   "execution_count": 26,
   "id": "9e66e933",
   "metadata": {},
   "outputs": [
    {
     "data": {
      "text/plain": [
       "array([[1, 1],\n",
       "       [1, 0]])"
      ]
     },
     "execution_count": 26,
     "metadata": {},
     "output_type": "execute_result"
    }
   ],
   "source": [
    "a.transpose().dot(a)%2"
   ]
  },
  {
   "cell_type": "code",
   "execution_count": 8,
   "id": "e9e4067d",
   "metadata": {},
   "outputs": [
    {
     "data": {
      "text/plain": [
       "array([[ 0.33333333, -0.33333333,  0.66666667],\n",
       "       [ 0.33333333,  0.66666667, -0.33333333]])"
      ]
     },
     "execution_count": 8,
     "metadata": {},
     "output_type": "execute_result"
    }
   ],
   "source": [
    "np.linalg.pinv(a)"
   ]
  },
  {
   "cell_type": "code",
   "execution_count": 9,
   "id": "ccd77bbf",
   "metadata": {},
   "outputs": [
    {
     "data": {
      "text/plain": [
       "array([0.33333333, 0.33333333])"
      ]
     },
     "execution_count": 9,
     "metadata": {},
     "output_type": "execute_result"
    }
   ],
   "source": [
    "np.linalg.pinv(a).dot(b)"
   ]
  },
  {
   "cell_type": "code",
   "execution_count": 44,
   "id": "d8dfa333",
   "metadata": {},
   "outputs": [
    {
     "data": {
      "text/plain": [
       "[ 1  1 ]\n",
       "[ 0  1 ]\n",
       "[ 1  0 ]"
      ]
     },
     "execution_count": 44,
     "metadata": {},
     "output_type": "execute_result"
    }
   ],
   "source": [
    "MatA = Mat2(a)\n",
    "MatB = Mat2(b)\n",
    "MatA"
   ]
  },
  {
   "cell_type": "code",
   "execution_count": 45,
   "id": "79c69213",
   "metadata": {},
   "outputs": [
    {
     "data": {
      "text/plain": [
       "[ 1 ]\n",
       "[ 1 ]\n",
       "[ 0 ]"
      ]
     },
     "execution_count": 45,
     "metadata": {},
     "output_type": "execute_result"
    }
   ],
   "source": [
    "MatA.gauss(full_reduce=True, x=MatB)\n",
    "MatB"
   ]
  },
  {
   "cell_type": "code",
   "execution_count": 57,
   "id": "44c1e0ea",
   "metadata": {},
   "outputs": [
    {
     "data": {
      "text/plain": [
       "array([1, 1])"
      ]
     },
     "execution_count": 57,
     "metadata": {},
     "output_type": "execute_result"
    }
   ],
   "source": [
    "MatA.data.transpose().dot(MatB.data).flatten()"
   ]
  },
  {
   "cell_type": "code",
   "execution_count": 61,
   "id": "f6ad8dce",
   "metadata": {},
   "outputs": [],
   "source": [
    "l = [1,3,2,0]\n",
    "l.sort()"
   ]
  },
  {
   "cell_type": "code",
   "execution_count": 62,
   "id": "c7525976",
   "metadata": {},
   "outputs": [
    {
     "data": {
      "text/plain": [
       "[0, 1, 2, 3]"
      ]
     },
     "execution_count": 62,
     "metadata": {},
     "output_type": "execute_result"
    }
   ],
   "source": [
    "l"
   ]
  },
  {
   "cell_type": "code",
   "execution_count": 64,
   "id": "947fac05",
   "metadata": {},
   "outputs": [
    {
     "data": {
      "text/plain": [
       "[10, 11, 0, 1, 2, 3]"
      ]
     },
     "execution_count": 64,
     "metadata": {},
     "output_type": "execute_result"
    }
   ],
   "source": [
    "[10, 11] + l"
   ]
  },
  {
   "cell_type": "code",
   "execution_count": 65,
   "id": "f32e7a43",
   "metadata": {},
   "outputs": [
    {
     "data": {
      "text/plain": [
       "[0, 1, 2, 3]"
      ]
     },
     "execution_count": 65,
     "metadata": {},
     "output_type": "execute_result"
    }
   ],
   "source": [
    "l"
   ]
  },
  {
   "cell_type": "code",
   "execution_count": 66,
   "id": "6f37b1c6",
   "metadata": {},
   "outputs": [
    {
     "data": {
      "text/plain": [
       "3"
      ]
     },
     "execution_count": 66,
     "metadata": {},
     "output_type": "execute_result"
    }
   ],
   "source": [
    "l.pop()"
   ]
  },
  {
   "cell_type": "code",
   "execution_count": 67,
   "id": "018e7eaf",
   "metadata": {},
   "outputs": [
    {
     "data": {
      "text/plain": [
       "[0, 1, 2]"
      ]
     },
     "execution_count": 67,
     "metadata": {},
     "output_type": "execute_result"
    }
   ],
   "source": [
    "l"
   ]
  },
  {
   "cell_type": "code",
   "execution_count": null,
   "id": "6fb90944",
   "metadata": {},
   "outputs": [],
   "source": []
  }
 ],
 "metadata": {
  "kernelspec": {
   "display_name": "Python 3 (ipykernel)",
   "language": "python",
   "name": "python3"
  },
  "language_info": {
   "codemirror_mode": {
    "name": "ipython",
    "version": 3
   },
   "file_extension": ".py",
   "mimetype": "text/x-python",
   "name": "python",
   "nbconvert_exporter": "python",
   "pygments_lexer": "ipython3",
   "version": "3.10.9"
  }
 },
 "nbformat": 4,
 "nbformat_minor": 5
}
