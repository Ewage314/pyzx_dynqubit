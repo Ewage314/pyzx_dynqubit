{
 "cells": [
  {
   "cell_type": "code",
   "execution_count": 1,
   "id": "3d3a9f95",
   "metadata": {},
   "outputs": [],
   "source": [
    "import sys; sys.path.insert(0, '..') # So that we import the local copy of pyzx if you have installed from Github\n",
    "import os\n",
    "\n",
    "import numpy as np\n",
    "import pandas as pd\n",
    "import matplotlib\n",
    "import matplotlib.pyplot as plt\n",
    "%matplotlib inline \n",
    "\n",
    "from multiprocessing import Pool\n",
    "import pyzx as zx\n",
    "from pyzx import cnot_mapper, architecture # Note that this is the local pyzx package from this repository/fork, not the one installed through pip or other means.\n",
    "from pyzx import circuit\n",
    "from pyzx import *\n",
    "from pyzx.parity_maps import CNOT_tracker\n",
    "from pyzx.linalg import Mat2\n",
    "from pyzx.simplify import full_reduce"
   ]
  },
  {
   "cell_type": "markdown",
   "id": "927b3eee",
   "metadata": {},
   "source": [
    "Define a set of helper functions for importing circuits from qasm files, this code is based on some from pyzx_dynqubit/demos/PermRowCol"
   ]
  },
  {
   "cell_type": "code",
   "execution_count": 2,
   "id": "666dce33",
   "metadata": {},
   "outputs": [],
   "source": [
    "def read_circuit(source, parity_map=True):\n",
    "    if not os.path.exists(source):\n",
    "        print(\"File {} does not exist\".format(source))\n",
    "        return\n",
    "    if parity_map:\n",
    "        return CNOT_tracker.from_qasm_file(source)\n",
    "    else:\n",
    "        return circuit.Circuit.from_qasm_file(source)\n",
    "def read_circuits(directory, n_qubits, parity_map=True):\n",
    "    source_folder = f\"../circuits/{directory}/\"\n",
    "    circuits = []\n",
    "    sources = []\n",
    "    subfolder = os.path.join(source_folder, str(n_qubits)+\"qubits/\")\n",
    "\n",
    "    for folder in os.listdir(subfolder):\n",
    "        folder = os.path.join(subfolder, folder)\n",
    "        if os.path.isdir(folder):\n",
    "            for file in os.listdir(folder):\n",
    "                if file.endswith(\".qasm\"):\n",
    "                    src = os.path.join(folder, file)\n",
    "                    circuit = read_circuit(src, parity_map)\n",
    "                    circuits.append(circuit)\n",
    "                    sources.append(src)\n",
    "    return circuits, sources"
   ]
  },
  {
   "cell_type": "code",
   "execution_count": 3,
   "id": "9dd6cde0",
   "metadata": {},
   "outputs": [],
   "source": [
    "NUM_OF_QUBITS = 5\n",
    "NUM_OF_GATES = 2\n",
    "circuits = read_circuits(\"steiner\", NUM_OF_QUBITS, parity_map=True)\n",
    "circuits = [circuits[0][x] for x in range(len(circuits[0])) if f\"{NUM_OF_QUBITS}qubits/{NUM_OF_GATES}/\" in circuits[1][x]]"
   ]
  },
  {
   "cell_type": "code",
   "execution_count": 4,
   "id": "45ab29af",
   "metadata": {},
   "outputs": [
    {
     "data": {
      "text/plain": [
       "100"
      ]
     },
     "execution_count": 4,
     "metadata": {},
     "output_type": "execute_result"
    }
   ],
   "source": [
    "len(circuits)"
   ]
  },
  {
   "cell_type": "code",
   "execution_count": 5,
   "id": "2cc8b232",
   "metadata": {},
   "outputs": [],
   "source": [
    "old_circuit = circuits[2].copy()\n",
    "comb_decomposition = CombDecomposition.from_circuit(circuits[2])"
   ]
  },
  {
   "cell_type": "code",
   "execution_count": 6,
   "id": "5c0abe9b",
   "metadata": {},
   "outputs": [
    {
     "name": "stdout",
     "output_type": "stream",
     "text": [
      "[ 1.0  0.0  0.0  0.0  0.0 ]\n",
      "[ 0.0  1.0  1.0  0.0  1.0 ]\n",
      "[ 0.0  0.0  1.0  0.0  0.0 ]\n",
      "[ 0.0  0.0  0.0  1.0  0.0 ]\n",
      "[ 0.0  0.0  0.0  0.0  1.0 ]\n",
      "bidict()\n"
     ]
    },
    {
     "data": {
      "image/png": "[encoded data removed]",
      "text/plain": [
       "<Figure size 800x200 with 1 Axes>"
      ]
     },
     "execution_count": 6,
     "metadata": {},
     "output_type": "execute_result"
    }
   ],
   "source": [
    "print(comb_decomposition.comb.matrix)\n",
    "print(comb_decomposition.comb.holes)\n",
    "zx.draw(comb_decomposition.comb)"
   ]
  },
  {
   "cell_type": "code",
   "execution_count": 7,
   "id": "ccbcb4e7",
   "metadata": {},
   "outputs": [],
   "source": [
    "def extract_sub_matrix(matrix, index_list):\n",
    "    new_matrix = Mat2.id(len(index_list))\n",
    "    for row in range(len(index_list)):\n",
    "        for col in range(len(index_list)):\n",
    "            new_matrix.data[col][row] = matrix.data[index_list[col]][index_list[row]]\n",
    "    return new_matrix\n",
    "def insert_sub_matrix(matrix, sub_matrix, index_list):\n",
    "    for row in range(len(index_list)):\n",
    "        for col in range(len(index_list)):\n",
    "            matrix.data[index_list[col]][index_list[row]] = sub_matrix.data[col][row]\n",
    "    return matrix"
   ]
  },
  {
   "cell_type": "code",
   "execution_count": 8,
   "id": "31ae7273",
   "metadata": {},
   "outputs": [],
   "source": [
    "def route_general_circuit(mode, circuit, arch):\n",
    "    # Decompose circuit\n",
    "    comb_decomposition = CombDecomposition.from_circuit(circuit)\n",
    "    comb = comb_decomposition.comb\n",
    "    \n",
    "    sub_circuits = []\n",
    "    # Create a copy of the parity matrix of the comb to perform gaussian elimination on\n",
    "    matrix = comb.matrix.copy()\n",
    "    # Clear the gates of the comb, as we will generate new ones as the elimination takes place\n",
    "    comb.gates = []\n",
    "    # Find initial qubits for the sub matrix\n",
    "    qubits_in_matrix = []\n",
    "    for qubit in range(comb.qubits):\n",
    "        if qubit not in comb.holes.values():\n",
    "            qubits_in_matrix.append(qubit)\n",
    "    #print(qubits_in_matrix)\n",
    "    # Generate sub matrix\n",
    "    sub_matrix = extract_sub_matrix(matrix, qubits_in_matrix)\n",
    "    # Apply gaussian elimation procedure of our choosing to sub matrix\n",
    "    sub_circuits.append(cnot_mapper.gauss_return_circuit(mode,\n",
    "                                     sub_matrix,\n",
    "                                     architecture.create_architecture(arch, n_qubits=circuit.qubits)))\n",
    "    sub_matrix = sub_circuits[-1].matrix\n",
    "    for gate in sub_circuits[-1].gates:\n",
    "        # Add gates from sub circuit to comb circuit\n",
    "        comb.gates.append(gate)\n",
    "    # Place sub matrix back in large matrix\n",
    "    insert_sub_matrix(matrix, sub_matrix, qubits_in_matrix)\n",
    "\n",
    "    no_more_holes = len(comb.holes) == 0\n",
    "    while not no_more_holes:\n",
    "        # Update the qubits in the sub matrix to account for passing a hole\n",
    "        for qubit_loc, qubit in enumerate(qubits_in_matrix):\n",
    "            if qubit in comb.holes:\n",
    "                qubits_in_matrix[qubit_loc] = comb.holes.pop(qubit)\n",
    "        #print(qubits_in_matrix)\n",
    "        if len(comb.holes) == 0:\n",
    "            no_more_holes = True\n",
    "        # Generate sub matrix\n",
    "        sub_matrix = extract_sub_matrix(matrix, qubits_in_matrix)\n",
    "        # Apply gaussian elimation procedure of our choosing to sub matrix\n",
    "        sub_circuits.append(cnot_mapper.gauss_return_circuit(MODE,\n",
    "                                         sub_matrix,\n",
    "                                         architecture.create_architecture(arch, n_qubits=circuit.qubits)))\n",
    "        sub_matrix = sub_circuits[-1].matrix\n",
    "        # Convert the gates of the sub matrix using the mapping\n",
    "        for gate in sub_circuits[-1].gates:\n",
    "            gate.control = qubits_in_matrix[gate.control]\n",
    "            gate.target = qubits_in_matrix[gate.target]\n",
    "            # Add gates from sub circuit to comb circuit\n",
    "            comb.gates.append(gate)\n",
    "        # Place sub matrix back in large matrix\n",
    "        insert_sub_matrix(matrix, sub_matrix, qubits_in_matrix)\n",
    "    # The comb has now been regenerated under the constraints of the hardware topology\n",
    "    # Need to recombine the comb with its hole plugs to create a new circuit\n",
    "    return CombDecomposition.to_circuit(comb_decomposition)"
   ]
  },
  {
   "cell_type": "code",
   "execution_count": 9,
   "id": "5b4dc153",
   "metadata": {},
   "outputs": [],
   "source": [
    "MODE = cnot_mapper.GAUSS\n",
    "ARCHITECTURE = architecture.FULLY_CONNNECTED\n",
    "new_circuit = route_general_circuit(MODE, old_circuit, ARCHITECTURE)"
   ]
  },
  {
   "cell_type": "code",
   "execution_count": 10,
   "id": "cbc05ed3",
   "metadata": {},
   "outputs": [
    {
     "name": "stdout",
     "output_type": "stream",
     "text": [
      "2\n",
      "2\n"
     ]
    },
    {
     "data": {
      "image/png": "[encoded data removed]",
      "text/plain": [
       "<Figure size 800x200 with 1 Axes>"
      ]
     },
     "execution_count": 10,
     "metadata": {},
     "output_type": "execute_result"
    }
   ],
   "source": [
    "print(len(new_circuit.gates))\n",
    "print(len(old_circuit.gates))\n",
    "zx.draw(old_circuit)\n",
    "zx.draw(new_circuit)"
   ]
  },
  {
   "cell_type": "code",
   "execution_count": 11,
   "id": "c719e7e0",
   "metadata": {},
   "outputs": [],
   "source": [
    "#g = new_circuit.to_graph()\n",
    "#full_reduce(g)\n",
    "#zx.draw(Circuit.from_graph(g))"
   ]
  },
  {
   "cell_type": "code",
   "execution_count": 12,
   "id": "8d502745",
   "metadata": {},
   "outputs": [
    {
     "data": {
      "text/plain": [
       "True"
      ]
     },
     "execution_count": 12,
     "metadata": {},
     "output_type": "execute_result"
    }
   ],
   "source": [
    "new_circuit.verify_equality(old_circuit)"
   ]
  },
  {
   "cell_type": "markdown",
   "id": "ee1a8e33",
   "metadata": {},
   "source": [
    "Test routing methods on usual circuit, not combs"
   ]
  },
  {
   "cell_type": "code",
   "execution_count": 13,
   "id": "b552a32b",
   "metadata": {},
   "outputs": [],
   "source": [
    "# Import Circuits for a given number of Qubits\n",
    "NUM_OF_QUBITS = 5\n",
    "ARCHITECHURE = architecture.FULLY_CONNNECTED\n",
    "circuits = {}\n",
    "for C in read_circuits(\"steiner\", NUM_OF_QUBITS, parity_map=True)[0]:\n",
    "    if len(C.gates) not in circuits.keys():\n",
    "        circuits[len(C.gates)] = [C]\n",
    "    else:\n",
    "        circuits[len(C.gates)].append(C)"
   ]
  },
  {
   "cell_type": "code",
   "execution_count": 14,
   "id": "d924fe6d",
   "metadata": {},
   "outputs": [
    {
     "name": "stdout",
     "output_type": "stream",
     "text": [
      "5 Qubit Circuits\n",
      "8 CNOTs\n",
      "Equality : 100\n",
      "Inequality : 0\n",
      "15 CNOTs\n",
      "Equality : 100\n",
      "Inequality : 0\n",
      "4 CNOTs\n",
      "Equality : 100\n",
      "Inequality : 0\n",
      "10 CNOTs\n",
      "Equality : 100\n",
      "Inequality : 0\n",
      "2 CNOTs\n",
      "Equality : 100\n",
      "Inequality : 0\n",
      "20 CNOTs\n",
      "Equality : 100\n",
      "Inequality : 0\n",
      "5 CNOTs\n",
      "Equality : 100\n",
      "Inequality : 0\n"
     ]
    }
   ],
   "source": [
    "print(f\"{NUM_OF_QUBITS} Qubit Circuits\")\n",
    "for num_of_gates in circuits:\n",
    "    print(f\"{num_of_gates} CNOTs\")\n",
    "    equality = 0\n",
    "    inequality = 0\n",
    "    for circuit in circuits[num_of_gates]:\n",
    "        if circuit.verify_equality(route_general_circuit(MODE, circuit, ARCHITECTURE)):\n",
    "            equality += 1\n",
    "        else:\n",
    "            inequality += 1\n",
    "    print(f\"Equality : {equality}\")\n",
    "    print(f\"Inequality : {inequality}\")"
   ]
  },
  {
   "cell_type": "raw",
   "id": "47c30520",
   "metadata": {},
   "source": [
    "print(f\"{NUM_OF_QUBITS} Qubit Circuits\")\n",
    "for num_of_gates in circuits:\n",
    "    print(f\"{num_of_gates} CNOTs\")\n",
    "    equality = 0\n",
    "    inequality = 0\n",
    "    for circuit in circuits[num_of_gates]:\n",
    "        if circuit.verify_equality(cnot_mapper.gauss_return_circuit(cnot_mapper.STEINER_MODE,\n",
    "                                         circuit.copy().matrix,\n",
    "                                         architecture.create_architecture(ARCHITECHURE, \n",
    "                                                                          n_qubits=NUM_OF_QUBITS)\n",
    "                                        )):\n",
    "            equality += 1\n",
    "        else:\n",
    "            inequality += 1\n",
    "    print(f\"Equality : {equality}\")\n",
    "    print(f\"Inequality : {inequality}\")"
   ]
  }
 ],
 "metadata": {
  "kernelspec": {
   "display_name": "Python 3 (ipykernel)",
   "language": "python",
   "name": "python3"
  },
  "language_info": {
   "codemirror_mode": {
    "name": "ipython",
    "version": 3
   },
   "file_extension": ".py",
   "mimetype": "text/x-python",
   "name": "python",
   "nbconvert_exporter": "python",
   "pygments_lexer": "ipython3",
   "version": "3.10.8"
  }
 },
 "nbformat": 4,
 "nbformat_minor": 5
}
