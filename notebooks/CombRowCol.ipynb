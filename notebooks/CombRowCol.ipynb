{
 "cells": [
  {
   "cell_type": "code",
   "execution_count": 1,
   "id": "3b93b602",
   "metadata": {
    "scrolled": false
   },
   "outputs": [],
   "source": [
    "import sys; sys.path.insert(0, '..') # So that we import the local copy of pyzx if you have installed from Github\n",
    "import os\n",
    "\n",
    "import numpy as np\n",
    "import pandas as pd\n",
    "import matplotlib\n",
    "import matplotlib.pyplot as plt\n",
    "%matplotlib inline \n",
    "\n",
    "from multiprocessing import Pool\n",
    "import pyzx as zx\n",
    "from pyzx import cnot_mapper, architecture # Note that this is the local pyzx package from this repository/fork, not the one installed through pip or other means.\n",
    "from pyzx import circuit\n",
    "from pyzx import *\n",
    "from pyzx.parity_maps import CNOT_tracker, build_random_parity_map\n",
    "from pyzx.linalg import Mat2\n",
    "from pyzx.simplify import full_reduce"
   ]
  },
  {
   "cell_type": "markdown",
   "id": "5b221376",
   "metadata": {},
   "source": [
    "Load comb circuits"
   ]
  },
  {
   "cell_type": "code",
   "execution_count": 2,
   "id": "f3c14e8e",
   "metadata": {
    "scrolled": true
   },
   "outputs": [],
   "source": [
    "comb_circuit_folder = \"../circuits/combs/\"\n",
    "\n",
    "circuit_properties = {\"Qubits\"    : 3,\n",
    "                      \"CNOTs\"     : 2,\n",
    "                      \"Non-CNOTs\" : 1}\n",
    "path = os.path.join(comb_circuit_folder, \n",
    "                    str(circuit_properties[\"Qubits\"])+\"qubits\", \n",
    "                    str(circuit_properties[\"CNOTs\"])+\"cnots\", \n",
    "                    str(circuit_properties[\"Non-CNOTs\"])+\"non-cnots\")\n",
    "loaded_circuits = []\n",
    "if os.path.exists(path):\n",
    "    for file_name in os.listdir(path):\n",
    "        loaded_circuits.append(circuit.Circuit.from_qasm_file(os.path.join(path, file_name)))\n",
    "else:\n",
    "    print(\"Directory Does Not Exist\")"
   ]
  },
  {
   "cell_type": "code",
   "execution_count": 3,
   "id": "6552be42",
   "metadata": {
    "scrolled": true
   },
   "outputs": [],
   "source": [
    "def extract_sub_matrix(matrix, index_list):\n",
    "    new_matrix = Mat2(np.zeros([len(index_list), matrix.cols()], dtype=int))\n",
    "    for row in range(new_matrix.rows()):\n",
    "        for col in range(new_matrix.cols()):\n",
    "            new_matrix.data[row][col] = matrix.data[index_list[row]][col]\n",
    "    return new_matrix\n",
    "def insert_sub_matrix(matrix, sub_matrix, index_list):\n",
    "    for row in range(sub_matrix.rows()):\n",
    "        for col in range(sub_matrix.cols()):\n",
    "            matrix.data[index_list[row]][col] = sub_matrix.data[row][col]\n",
    "    return matrix\n",
    "def remove_rowcol(matrix, index):\n",
    "    matrix.data = np.delete(matrix.data, index, 0)\n",
    "    matrix.data = np.delete(matrix.data, index, 1)\n",
    "    print(matrix)"
   ]
  },
  {
   "cell_type": "code",
   "execution_count": 4,
   "id": "fb045726",
   "metadata": {
    "scrolled": true
   },
   "outputs": [],
   "source": [
    "def elimination_order(comb):\n",
    "    #return list(range(comb.qubits))\n",
    "    \n",
    "    return [3,2,0,1]"
   ]
  },
  {
   "cell_type": "code",
   "execution_count": 12,
   "id": "accfb982",
   "metadata": {
    "scrolled": false
   },
   "outputs": [
    {
     "name": "stdout",
     "output_type": "stream",
     "text": [
      "0 : True\n",
      "1 : True\n",
      "2 : True\n",
      "3 : True\n",
      "4 : True\n",
      "5 : True\n",
      "6 : True\n",
      "7 : True\n",
      "8 : True\n",
      "9 : True\n",
      "10 : True\n",
      "11 : True\n",
      "12 : True\n",
      "13 : True\n",
      "14 : True\n",
      "15 : True\n",
      "16 : True\n",
      "17 : True\n",
      "18 : True\n",
      "19 : True\n",
      "20 : True\n",
      "21 : True\n",
      "22 : True\n",
      "23 : True\n",
      "24 : True\n",
      "25 : True\n",
      "26 : True\n",
      "27 : True\n",
      "28 : True\n",
      "29 : True\n",
      "30 : True\n",
      "31 : True\n",
      "32 : True\n",
      "33 : True\n",
      "34 : True\n",
      "35 : True\n",
      "36 : True\n",
      "37 : True\n",
      "38 : True\n",
      "39 : True\n",
      "40 : True\n",
      "41 : True\n",
      "42 : True\n",
      "43 : True\n",
      "44 : True\n",
      "45 : True\n",
      "46 : True\n",
      "47 : True\n",
      "48 : True\n",
      "49 : True\n",
      "50 : True\n",
      "51 : True\n",
      "52 : True\n",
      "53 : True\n",
      "54 : True\n",
      "55 : True\n",
      "56 : True\n",
      "57 : True\n",
      "58 : True\n",
      "59 : True\n",
      "60 : True\n",
      "61 : True\n",
      "62 : True\n",
      "63 : True\n",
      "64 : True\n",
      "65 : True\n",
      "66 : True\n",
      "67 : True\n",
      "68 : True\n",
      "69 : True\n",
      "70 : True\n",
      "71 : True\n",
      "72 : True\n",
      "73 : True\n",
      "74 : True\n",
      "75 : True\n",
      "76 : True\n",
      "77 : True\n",
      "78 : True\n",
      "79 : True\n",
      "80 : True\n",
      "81 : True\n",
      "82 : True\n",
      "83 : True\n",
      "84 : True\n",
      "85 : True\n",
      "86 : True\n",
      "87 : True\n",
      "88 : True\n",
      "89 : True\n",
      "90 : True\n",
      "91 : True\n",
      "92 : True\n",
      "93 : True\n",
      "94 : True\n",
      "95 : True\n",
      "96 : True\n",
      "97 : True\n",
      "98 : True\n",
      "99 : True\n"
     ]
    }
   ],
   "source": [
    "from IPython.display import display, Markdown\n",
    "\n",
    "DEBUG = False\n",
    "OUTER_DISPLAY = False\n",
    "INNTER_DISPLAY = False\n",
    "\n",
    "#INDEX = 16\n",
    "for INDEX in range(100):\n",
    "    circ = loaded_circuits[INDEX].copy()\n",
    "    OUTER_DISPLAY and display(zx.draw(circ))\n",
    "    decomposition = CombDecomposition.from_circuit(circ)\n",
    "    comb = decomposition.comb\n",
    "    OUTER_DISPLAY and display(zx.draw(comb))\n",
    "    new_comb = CNOTComb(comb.qubits, comb.holes, comb.new_to_old_qubit_mappings)\n",
    "    arch = architecture.create_architecture(architecture.LINE, n_qubits=circ.qubits)\n",
    "    # Create a copy of the parity matrix of the comb to perform gaussian elimination on\n",
    "    matrix = comb.matrix.copy()\n",
    "\n",
    "\n",
    "    DEBUG and print(comb.matrix)\n",
    "\n",
    "\n",
    "    # Find initial qubits for the sub matrix\n",
    "    qubits_in_matrix = []\n",
    "    old_to_new_qubits = dict([(i,[]) for i in range(circ.qubits)])\n",
    "    for virtual_qubit in comb.new_to_old_qubit_mappings.keys():\n",
    "        old_to_new_qubits[comb.new_to_old_qubit_mappings[virtual_qubit]].append(virtual_qubit)\n",
    "    for logical_qubit in old_to_new_qubits.keys():\n",
    "        if len(old_to_new_qubits[logical_qubit]) == 0:\n",
    "            qubits_in_matrix.append(logical_qubit)\n",
    "        else:\n",
    "            qubits_in_matrix.append(max(old_to_new_qubits[logical_qubit]))    \n",
    "\n",
    "    DEBUG and print(qubits_in_matrix)\n",
    "\n",
    "\n",
    "    # These are the qubits still accessible on the architecture\n",
    "    # This doesn't include virtual qubits\n",
    "    rows_to_eliminate = list(range(circ.qubits))\n",
    "    cols_to_eliminate = elimination_order(comb)\n",
    "    while 0 < len(cols_to_eliminate):\n",
    "\n",
    "        # Generate sub matrix\n",
    "        sub_matrix = extract_sub_matrix(matrix, qubits_in_matrix)\n",
    "        sub_circuit = CNOT_tracker(circ.qubits, parities_as_columns=False)\n",
    "        col_to_eliminate = cols_to_eliminate[0]\n",
    "        DEBUG and print(comb.holes)\n",
    "        DEBUG and print(comb.new_to_old_qubit_mappings)\n",
    "\n",
    "        # Take account of mapping from virtual to logical qubits\n",
    "        if col_to_eliminate in comb.new_to_old_qubit_mappings:\n",
    "            row_to_eliminate = comb.new_to_old_qubit_mappings[col_to_eliminate]\n",
    "        else:\n",
    "            row_to_eliminate = col_to_eliminate\n",
    "\n",
    "        DEBUG and print(f\"Qubit to eliminate {col_to_eliminate} ({row_to_eliminate})\")\n",
    "\n",
    "        # Remove current rowcol from matrix\n",
    "        rowcol_iteration(sub_matrix, # need to generate correct sub matrix\n",
    "                         arch,\n",
    "                         row_to_eliminate, # rowcol needs to 'see' the virtual qubit as the original\n",
    "                         col_to_eliminate,\n",
    "                         rows_to_eliminate, # need to generate list of qubits currently accessible\n",
    "                         cols_to_eliminate,\n",
    "                         circuit=sub_circuit)\n",
    "        DEBUG and print(sub_circuit.gates)\n",
    "\n",
    "        # Convert the gates of the sub matrix using the mapping\n",
    "        for gate in sub_circuit.gates[::-1]:\n",
    "            gate.control = qubits_in_matrix[gate.control]\n",
    "            gate.target = qubits_in_matrix[gate.target]\n",
    "            # Add gates from sub circuit to comb circuit\n",
    "            new_comb.gates.insert(0, gate)\n",
    "        # Insert submatrix back into larger matrix\n",
    "        insert_sub_matrix(matrix, sub_matrix, qubits_in_matrix)    \n",
    "\n",
    "        DEBUG and print(new_comb.gates)\n",
    "\n",
    "\n",
    "        # If the qubit just removed maps to another qubit via a hole\n",
    "        # replace that qubit with the new qubit in the qubits_in_matrix list\n",
    "        qubit_found = False\n",
    "        qubit_loc = 0\n",
    "        while not qubit_found:\n",
    "            qubit = qubits_in_matrix[qubit_loc]\n",
    "            if qubit == cols_to_eliminate[0]:\n",
    "                qubit_found = True\n",
    "                # Remove virtual qubit\n",
    "                cols_to_eliminate.pop(0)\n",
    "                # Check if there are anymore virtual qubits that could be assigned to this logical one\n",
    "                if qubit in comb.holes.inverse.keys():\n",
    "                    qubits_in_matrix[qubit_loc] = comb.holes.inverse.pop(qubit)\n",
    "                else:\n",
    "                    # If no more virtual qubits can be assigned we remove it from being considered\n",
    "                    # available in the architecture\n",
    "                    if qubit in comb.new_to_old_qubit_mappings:\n",
    "                        rows_to_eliminate.remove(comb.new_to_old_qubit_mappings[qubit])\n",
    "                    else:\n",
    "                        rows_to_eliminate.remove(qubit)\n",
    "            qubit_loc += 1\n",
    "\n",
    "        INNTER_DISPLAY and display(zx.draw(new_comb))      \n",
    "\n",
    "    decomposition.comb = new_comb\n",
    "    new_circuit = CombDecomposition.to_circuit(decomposition)\n",
    "    #print(\"New Circuit: \")\n",
    "    print(f\"{INDEX} : {new_circuit.verify_equality(loaded_circuits[INDEX])}\")\n",
    "    OUTER_DISPLAY and display(zx.draw(new_circuit))"
   ]
  },
  {
   "cell_type": "code",
   "execution_count": 6,
   "id": "218bfd33",
   "metadata": {
    "scrolled": true
   },
   "outputs": [
    {
     "name": "stdout",
     "output_type": "stream",
     "text": [
      "[[1. 0.]\n",
      " [0. 0.]\n",
      " [0. 1.]]\n",
      "[1 0 1]\n",
      "[1. 1.]\n"
     ]
    }
   ],
   "source": [
    "matrix = Mat2(np.array([[1,1,0,1],\n",
    "                        [0,1,0,0],\n",
    "                        [0,0,0,1]]))\n",
    "choice = 0\n",
    "rowcols_to_eliminate = [0,1,2]\n",
    "A_inv = matrix.copy().data\n",
    "A_inv = np.delete(A_inv, choice, 0)\n",
    "A_inv = np.delete(A_inv, choice, 1)\n",
    "A_inv = np.linalg.pinv(A_inv)\n",
    "B = np.array(matrix.data[choice])\n",
    "B = np.delete(B, choice, 0)\n",
    "#Mat2([[matrix.data[row][col] for row in rowcols_to_eliminate if row != choice] for col  in rowcols_to_eliminate if col != choice])\n",
    "print(A_inv)\n",
    "print(B)\n",
    "print(B.dot(A_inv))\n",
    "#print(np.linalg.pinv(matrix.data))"
   ]
  },
  {
   "cell_type": "code",
   "execution_count": 7,
   "id": "697749c1",
   "metadata": {
    "scrolled": true
   },
   "outputs": [
    {
     "data": {
      "text/plain": [
       "array([[ 1.,  0.,  0.,  0.],\n",
       "       [-0.,  1.,  0.,  0.],\n",
       "       [ 0.,  0.,  0.,  0.],\n",
       "       [-0., -0.,  0.,  1.]])"
      ]
     },
     "execution_count": 7,
     "metadata": {},
     "output_type": "execute_result"
    }
   ],
   "source": [
    "np.dot(np.linalg.pinv(matrix.data), matrix.data)"
   ]
  },
  {
   "cell_type": "code",
   "execution_count": 8,
   "id": "f698a9b2",
   "metadata": {
    "scrolled": false
   },
   "outputs": [],
   "source": [
    "temp = CNOT_tracker(4)"
   ]
  },
  {
   "cell_type": "code",
   "execution_count": 9,
   "id": "f67e1eab",
   "metadata": {},
   "outputs": [
    {
     "name": "stdout",
     "output_type": "stream",
     "text": [
      "[CNOT(2,0), CNOT(3,1), CNOT(2,1), CNOT(3,2)]\n"
     ]
    }
   ],
   "source": [
    "temp.row_add(3,2)\n",
    "temp.row_add(2,1)\n",
    "temp.row_add(3,1)\n",
    "temp.row_add(2,0)\n",
    "print(temp.gates)"
   ]
  },
  {
   "cell_type": "code",
   "execution_count": 10,
   "id": "110161f9",
   "metadata": {},
   "outputs": [
    {
     "data": {
      "image/png": "[encoded data removed]",
      "text/plain": [
       "<Figure size 800x200 with 1 Axes>"
      ]
     },
     "execution_count": 10,
     "metadata": {},
     "output_type": "execute_result"
    }
   ],
   "source": [
    "zx.draw(temp)"
   ]
  },
  {
   "cell_type": "code",
   "execution_count": null,
   "id": "67555033",
   "metadata": {},
   "outputs": [],
   "source": []
  }
 ],
 "metadata": {
  "kernelspec": {
   "display_name": "Python 3 (ipykernel)",
   "language": "python",
   "name": "python3"
  },
  "language_info": {
   "codemirror_mode": {
    "name": "ipython",
    "version": 3
   },
   "file_extension": ".py",
   "mimetype": "text/x-python",
   "name": "python",
   "nbconvert_exporter": "python",
   "pygments_lexer": "ipython3",
   "version": "3.10.9"
  }
 },
 "nbformat": 4,
 "nbformat_minor": 5
}
