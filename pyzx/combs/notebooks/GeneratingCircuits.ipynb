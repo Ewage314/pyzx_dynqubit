{
 "cells": [
  {
   "cell_type": "markdown",
   "id": "f702a125",
   "metadata": {},
   "source": [
    "Import needed libraries"
   ]
  },
  {
   "cell_type": "code",
   "execution_count": 1,
   "id": "7aaa6ae6",
   "metadata": {},
   "outputs": [],
   "source": [
    "import sys; sys.path.insert(0, '../../..') # So that we import the local copy of pyzx if you have installed from Github\n",
    "import os\n",
    "\n",
    "import math\n",
    "import numpy as np\n",
    "import pandas as pd\n",
    "import matplotlib\n",
    "import matplotlib.pyplot as plt\n",
    "%matplotlib inline \n",
    "\n",
    "from multiprocessing import Pool\n",
    "import pyzx as zx\n",
    "from pyzx import cnot_mapper, architecture # Note that this is the local pyzx package from this repository/fork, not the one installed through pip or other means.\n",
    "from pyzx import circuit\n",
    "from pyzx import *\n",
    "from pyzx.parity_maps import CNOT_tracker, build_random_parity_map\n",
    "from pyzx.linalg import Mat2\n",
    "from pyzx.simplify import full_reduce"
   ]
  },
  {
   "cell_type": "markdown",
   "id": "f8a5f7cb",
   "metadata": {},
   "source": [
    "Generate random circuits"
   ]
  },
  {
   "cell_type": "code",
   "execution_count": 4,
   "id": "e9559e39",
   "metadata": {},
   "outputs": [
    {
     "name": "stdout",
     "output_type": "stream",
     "text": [
      "16 Qubits\n",
      "4 CNOTs\n",
      "1 Non-CNOTs\n",
      "8 CNOTs\n",
      "2 Non-CNOTs\n",
      "16 CNOTs\n",
      "3 Non-CNOTs\n",
      "32 CNOTs\n",
      "5 Non-CNOTs\n",
      "64 CNOTs\n",
      "10 Non-CNOTs\n",
      "128 CNOTs\n",
      "20 Non-CNOTs\n",
      "256 CNOTs\n",
      "39 Non-CNOTs\n",
      "512 CNOTs\n",
      "77 Non-CNOTs\n",
      "1024 CNOTs\n",
      "154 Non-CNOTs\n",
      "20 Qubits\n",
      "4 CNOTs\n",
      "1 Non-CNOTs\n",
      "8 CNOTs\n",
      "2 Non-CNOTs\n",
      "16 CNOTs\n",
      "3 Non-CNOTs\n",
      "32 CNOTs\n",
      "5 Non-CNOTs\n",
      "64 CNOTs\n",
      "10 Non-CNOTs\n",
      "128 CNOTs\n",
      "20 Non-CNOTs\n",
      "256 CNOTs\n",
      "39 Non-CNOTs\n",
      "512 CNOTs\n",
      "77 Non-CNOTs\n",
      "1024 CNOTs\n",
      "154 Non-CNOTs\n"
     ]
    }
   ],
   "source": [
    "n_qubits = [16, 20]\n",
    "n_cnots = [4,8,16,32,64,128,256,512,1024]\n",
    "#n_non_cnots = [0,1,2,4,5,8,10,15,20]\n",
    "non_cnot_proportion = 0.15\n",
    "n_circuits = 100\n",
    "np.random.seed(0)\n",
    "GENERATION_ENABLED = True\n",
    "\n",
    "\n",
    "comb_circuit_folder = \"../../../circuits/combs-ZX-prop/\"\n",
    "if GENERATION_ENABLED:\n",
    "    for q in n_qubits:\n",
    "        print(f\"{q} Qubits\")\n",
    "        for c in n_cnots:\n",
    "            print(f\"{c} CNOTs\")\n",
    "            #for nc in n_non_cnots:\n",
    "            nc = math.ceil(c * non_cnot_proportion)\n",
    "            print(f\"{nc} Non-CNOTs\")\n",
    "            # Create directory to store circuits of this type\n",
    "            dest_folder = os.path.join(comb_circuit_folder, str(q)+\"qubits\", str(c)+\"cnots\", str(nc)+\"non-cnots\")\n",
    "            os.makedirs(dest_folder, exist_ok=True)\n",
    "            for i in range(n_circuits):\n",
    "                temp_circuit = Circuit(q)\n",
    "                build_random_parity_map(q, c, temp_circuit)\n",
    "                for j in range(nc):\n",
    "                    if np.random.randint(2) == 0:\n",
    "                        non_cnot_gate = zx.circuit.NOT(np.random.randint(q)) # Generate gate on applied to random qubit\n",
    "                    else:\n",
    "                        non_cnot_gate = zx.circuit.Z(np.random.randint(q)) # Generate gate on applied to random qubit\n",
    "                    temp_circuit.gates.insert(np.random.randint(len(temp_circuit.gates)), non_cnot_gate) # Insert gate to random location of circuit\n",
    "                # Store circuit in qasm format\n",
    "                filename = f\"Q-{q}_C-{c}_NC-{nc}_{i}.qasm\"\n",
    "                dest_file = os.path.join(dest_folder, filename)\n",
    "                with open(dest_file, \"w\") as f:\n",
    "                    f.write(temp_circuit.to_qasm())\n"
   ]
  },
  {
   "cell_type": "code",
   "execution_count": null,
   "id": "4845b5fd",
   "metadata": {},
   "outputs": [],
   "source": []
  }
 ],
 "metadata": {
  "kernelspec": {
   "display_name": "Python 3 (ipykernel)",
   "language": "python",
   "name": "python3"
  },
  "language_info": {
   "codemirror_mode": {
    "name": "ipython",
    "version": 3
   },
   "file_extension": ".py",
   "mimetype": "text/x-python",
   "name": "python",
   "nbconvert_exporter": "python",
   "pygments_lexer": "ipython3",
   "version": "3.10.9"
  }
 },
 "nbformat": 4,
 "nbformat_minor": 5
}
