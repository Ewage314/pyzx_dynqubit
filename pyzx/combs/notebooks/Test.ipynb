{
 "cells": [
  {
   "cell_type": "code",
   "execution_count": 2,
   "id": "728560dd",
   "metadata": {},
   "outputs": [],
   "source": [
    "import sys; sys.path.insert(0, '..') # So that we import the local copy of pyzx if you have installed from Github\n",
    "import numpy as np\n",
    "import networkx as nx\n",
    "import pyzx\n",
    "from pyzx.linalg import Mat2\n",
    "from pyzx.parity_maps import CNOT_tracker, build_random_parity_map\n",
    "from pyzx import cnot_mapper, architecture # Note that this is the local pyzx package from this repository/fork, not the one installed through pip or other means.\n",
    "from pyzx import *"
   ]
  },
  {
   "cell_type": "code",
   "execution_count": 7,
   "id": "6ddc38a0",
   "metadata": {},
   "outputs": [
    {
     "name": "stdout",
     "output_type": "stream",
     "text": [
      "[]\n",
      "[ 0  0  0  0  1 ]\n",
      "[ 0  0  0  1  0 ]\n",
      "[ 0  0  1  0  0 ]\n",
      "\n",
      "[ 0  0  1  0  0 ]\n",
      "[ 0  0  0  1  0 ]\n",
      "[ 0  0  0  0  1 ]\n",
      "\n",
      "[CNOT(2,0), CNOT(0,2), CNOT(2,0)]\n"
     ]
    }
   ],
   "source": [
    "C = CNOT_tracker(3)\n",
    "M = Mat2(np.array([[0,0,0,0,1],\n",
    "                   [0,0,0,1,0],\n",
    "                   [0,0,1,0,0]]))\n",
    "arch = architecture.create_architecture(architecture.FULLY_CONNNECTED, n_qubits=3)\n",
    "print(C.gates)\n",
    "print(M, end=\"\\n\\n\")\n",
    "M.gauss(full_reduce=True, x=C)\n",
    "#rowcol(M, arch)\n",
    "print(M, end=\"\\n\\n\")\n",
    "print(C.gates)"
   ]
  },
  {
   "cell_type": "code",
   "execution_count": 17,
   "id": "c73e9899",
   "metadata": {},
   "outputs": [],
   "source": [
    "C_temp = CNOT_tracker(3)"
   ]
  },
  {
   "cell_type": "code",
   "execution_count": null,
   "id": "95b7c199",
   "metadata": {},
   "outputs": [],
   "source": [
    "col = 1\n",
    "[i for i in range(matrix.shape[0]) if matrix[i][col] == 1]"
   ]
  },
  {
   "cell_type": "code",
   "execution_count": null,
   "id": "0c931d09",
   "metadata": {},
   "outputs": [],
   "source": []
  }
 ],
 "metadata": {
  "kernelspec": {
   "display_name": "Python 3 (ipykernel)",
   "language": "python",
   "name": "python3"
  },
  "language_info": {
   "codemirror_mode": {
    "name": "ipython",
    "version": 3
   },
   "file_extension": ".py",
   "mimetype": "text/x-python",
   "name": "python",
   "nbconvert_exporter": "python",
   "pygments_lexer": "ipython3",
   "version": "3.10.9"
  }
 },
 "nbformat": 4,
 "nbformat_minor": 5
}
